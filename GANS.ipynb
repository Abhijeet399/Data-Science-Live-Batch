{
 "cells": [
  {
   "cell_type": "code",
   "execution_count": 7,
   "id": "c401159a",
   "metadata": {},
   "outputs": [],
   "source": [
    "import numpy\n",
    "import tensorflow\n",
    "from keras.models import Sequential\n",
    "from keras.optimizers import Adam\n",
    "from keras.layers import Flatten\n",
    "from keras.layers import Dense\n",
    "from keras.layers import Conv2D\n",
    "from keras.layers import Conv2DTranspose\n",
    "from keras.layers import Dropout\n",
    "from keras.layers import LeakyReLU\n",
    "from keras.layers import Reshape\n",
    "from keras.datasets.mnist import load_data"
   ]
  },
  {
   "cell_type": "code",
   "execution_count": 2,
   "id": "52fe5ba3",
   "metadata": {},
   "outputs": [],
   "source": [
    "def define_disciminator(inp_shape = (28, 28, 1)):\n",
    "    model = Sequential()\n",
    "    model.add(Conv2D(32, (3, 3), strides = (1, 1), padding = 'same', input_shape = inp_shape))\n",
    "    model.add(LeakyReLU(alpha = 0.2))\n",
    "    model.add(Dropout(0.3))\n",
    "    model.add(Conv2D(64, (3, 3), strides = (1, 1), padding = 'same'))\n",
    "    model.add(LeakyReLU(alpha = 0.2))\n",
    "    model.add(Dropout(0.5))\n",
    "    model.add(Flatten())\n",
    "    model.add(Dense(1, activation = 'sigmoid'))\n",
    "    \n",
    "    opt = Adam(lr = 0.003)\n",
    "    model.compile(loss = 'binary_crossentropy', optimizer = opt, metrics = ['accuracy'])\n",
    "    \n",
    "    return model"
   ]
  },
  {
   "cell_type": "code",
   "execution_count": 4,
   "id": "69b55543",
   "metadata": {},
   "outputs": [],
   "source": [
    "def define_generator(latent_vec):\n",
    "    \n",
    "    gen_model = Sequential()\n",
    "    nodes = 7*7*64   # output = 3136\n",
    "    gen_model.add(Dense(nodes, input_shape = latent_vec))\n",
    "    gen_model.add(LeakyReLU(alpha = 0.2))\n",
    "    model.add(Reshape((7, 7, 64)))\n",
    "#     Output --> 7*7*64\n",
    "    gen_model.add(Conv2DTranspose(32, (4, 4), strides = (2, 2), padding = 'same'))\n",
    "    gen_model.add(LeakyReLU(alpha = 0.2))\n",
    "#     Output --> 14*14*32\n",
    "    gen_model.add(Conv2DTranspose(16, (4, 4), strides = (2, 2), padding = 'same'))\n",
    "    gen_model.add(LeakyReLU(alpha = 0.2))\n",
    "#     Output --> 28*28*16\n",
    "    gen_model.add(Conv2D(1, (3, 3), activation = 'sigmoid', padding = 'same'))    # Output --> 28*28*1\n",
    "    \n",
    "    return gen_model"
   ]
  },
  {
   "cell_type": "code",
   "execution_count": 5,
   "id": "4a3865b7",
   "metadata": {},
   "outputs": [],
   "source": [
    "def define_gan(g_model, d_model):\n",
    "    \n",
    "    d_model.trainable = False\n",
    "    model = Sequential()\n",
    "    model.add(g_model)\n",
    "    model.add(d_model)\n",
    "    \n",
    "    opt = Adam(lr = 0.003)\n",
    "    model.compile(loss = 'binary_crossentropy', optimizer = opt)\n",
    "    return model"
   ]
  },
  {
   "cell_type": "code",
   "execution_count": 8,
   "id": "c22bafcf",
   "metadata": {},
   "outputs": [],
   "source": [
    "def load_real_samples():\n",
    "    (train_X, _), (_, _) = load_data()\n",
    "    train_X = np.expand_dims(train_X, axis = -1)\n",
    "    train_X = train_X.astype('float32')\n",
    "    train_X = train_X/255\n",
    "    return train_X"
   ]
  },
  {
   "cell_type": "code",
   "execution_count": null,
   "id": "d12c5685",
   "metadata": {},
   "outputs": [],
   "source": []
  }
 ],
 "metadata": {
  "kernelspec": {
   "display_name": "Python 3 (ipykernel)",
   "language": "python",
   "name": "python3"
  },
  "language_info": {
   "codemirror_mode": {
    "name": "ipython",
    "version": 3
   },
   "file_extension": ".py",
   "mimetype": "text/x-python",
   "name": "python",
   "nbconvert_exporter": "python",
   "pygments_lexer": "ipython3",
   "version": "3.8.10"
  }
 },
 "nbformat": 4,
 "nbformat_minor": 5
}
