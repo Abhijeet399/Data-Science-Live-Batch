{
 "cells": [
  {
   "cell_type": "code",
   "execution_count": 1,
   "id": "9cfa4d9d",
   "metadata": {},
   "outputs": [],
   "source": [
    "a = 1"
   ]
  },
  {
   "cell_type": "code",
   "execution_count": 2,
   "id": "117b780f",
   "metadata": {},
   "outputs": [
    {
     "data": {
      "text/plain": [
       "1"
      ]
     },
     "execution_count": 2,
     "metadata": {},
     "output_type": "execute_result"
    }
   ],
   "source": [
    "a"
   ]
  },
  {
   "cell_type": "code",
   "execution_count": 3,
   "id": "1e4698e9",
   "metadata": {},
   "outputs": [],
   "source": [
    "b = 4"
   ]
  },
  {
   "cell_type": "code",
   "execution_count": 4,
   "id": "d6653411",
   "metadata": {},
   "outputs": [
    {
     "data": {
      "text/plain": [
       "4"
      ]
     },
     "execution_count": 4,
     "metadata": {},
     "output_type": "execute_result"
    }
   ],
   "source": [
    "b"
   ]
  },
  {
   "cell_type": "code",
   "execution_count": 5,
   "id": "9a83598a",
   "metadata": {},
   "outputs": [
    {
     "name": "stdout",
     "output_type": "stream",
     "text": [
      "4\n"
     ]
    }
   ],
   "source": [
    "print(b)"
   ]
  },
  {
   "cell_type": "code",
   "execution_count": 6,
   "id": "3257b1f8",
   "metadata": {},
   "outputs": [],
   "source": [
    "b = 4.0"
   ]
  },
  {
   "cell_type": "code",
   "execution_count": 7,
   "id": "a1842b26",
   "metadata": {},
   "outputs": [
    {
     "name": "stdout",
     "output_type": "stream",
     "text": [
      "4.0\n"
     ]
    }
   ],
   "source": [
    "print(b)"
   ]
  },
  {
   "cell_type": "code",
   "execution_count": 8,
   "id": "d9cdda61",
   "metadata": {},
   "outputs": [],
   "source": [
    "a = 4"
   ]
  },
  {
   "cell_type": "code",
   "execution_count": 9,
   "id": "2a078941",
   "metadata": {},
   "outputs": [
    {
     "name": "stdout",
     "output_type": "stream",
     "text": [
      "4\n"
     ]
    }
   ],
   "source": [
    "print(a)"
   ]
  },
  {
   "cell_type": "code",
   "execution_count": 10,
   "id": "9ceba534",
   "metadata": {},
   "outputs": [
    {
     "name": "stdout",
     "output_type": "stream",
     "text": [
      "<class 'int'>\n"
     ]
    }
   ],
   "source": [
    "print(type(a))"
   ]
  },
  {
   "cell_type": "code",
   "execution_count": 11,
   "id": "fc9740c1",
   "metadata": {},
   "outputs": [
    {
     "name": "stdout",
     "output_type": "stream",
     "text": [
      "<class 'float'>\n"
     ]
    }
   ],
   "source": [
    "print(type(b))"
   ]
  },
  {
   "cell_type": "code",
   "execution_count": 12,
   "id": "bb08bfcb",
   "metadata": {},
   "outputs": [
    {
     "name": "stdout",
     "output_type": "stream",
     "text": [
      "<class 'int'>\n"
     ]
    }
   ],
   "source": [
    "print(type(-2))"
   ]
  },
  {
   "cell_type": "code",
   "execution_count": 13,
   "id": "00f12c13",
   "metadata": {},
   "outputs": [
    {
     "name": "stdout",
     "output_type": "stream",
     "text": [
      "<class 'float'>\n"
     ]
    }
   ],
   "source": [
    "print(type(-3.5))"
   ]
  },
  {
   "cell_type": "code",
   "execution_count": 14,
   "id": "30a17c0e",
   "metadata": {},
   "outputs": [],
   "source": [
    "c = '3'"
   ]
  },
  {
   "cell_type": "code",
   "execution_count": 15,
   "id": "be476961",
   "metadata": {},
   "outputs": [
    {
     "name": "stdout",
     "output_type": "stream",
     "text": [
      "<class 'str'>\n"
     ]
    }
   ],
   "source": [
    "print(type(c))"
   ]
  },
  {
   "cell_type": "code",
   "execution_count": 16,
   "id": "b22e3a6c",
   "metadata": {},
   "outputs": [],
   "source": [
    "c = 'Hello World!'"
   ]
  },
  {
   "cell_type": "code",
   "execution_count": 17,
   "id": "358992ac",
   "metadata": {},
   "outputs": [
    {
     "data": {
      "text/plain": [
       "'Hello World!'"
      ]
     },
     "execution_count": 17,
     "metadata": {},
     "output_type": "execute_result"
    }
   ],
   "source": [
    "c"
   ]
  },
  {
   "cell_type": "code",
   "execution_count": 18,
   "id": "6517a269",
   "metadata": {},
   "outputs": [
    {
     "data": {
      "text/plain": [
       "str"
      ]
     },
     "execution_count": 18,
     "metadata": {},
     "output_type": "execute_result"
    }
   ],
   "source": [
    "type(c)"
   ]
  },
  {
   "cell_type": "code",
   "execution_count": 19,
   "id": "510dbc00",
   "metadata": {},
   "outputs": [],
   "source": [
    "d = True"
   ]
  },
  {
   "cell_type": "code",
   "execution_count": 20,
   "id": "fb860ce8",
   "metadata": {},
   "outputs": [
    {
     "data": {
      "text/plain": [
       "bool"
      ]
     },
     "execution_count": 20,
     "metadata": {},
     "output_type": "execute_result"
    }
   ],
   "source": [
    "type(d)"
   ]
  },
  {
   "cell_type": "code",
   "execution_count": 21,
   "id": "9191f679",
   "metadata": {},
   "outputs": [],
   "source": [
    "d = False"
   ]
  },
  {
   "cell_type": "code",
   "execution_count": 22,
   "id": "0474b6c2",
   "metadata": {},
   "outputs": [
    {
     "data": {
      "text/plain": [
       "bool"
      ]
     },
     "execution_count": 22,
     "metadata": {},
     "output_type": "execute_result"
    }
   ],
   "source": [
    "type(d)"
   ]
  },
  {
   "cell_type": "code",
   "execution_count": 23,
   "id": "8b879e73",
   "metadata": {},
   "outputs": [
    {
     "name": "stdout",
     "output_type": "stream",
     "text": [
      "False\n"
     ]
    }
   ],
   "source": [
    "print(d)"
   ]
  },
  {
   "cell_type": "code",
   "execution_count": 24,
   "id": "8305e3ac",
   "metadata": {},
   "outputs": [
    {
     "name": "stdout",
     "output_type": "stream",
     "text": [
      "e\n"
     ]
    }
   ],
   "source": [
    "print('e')"
   ]
  },
  {
   "cell_type": "code",
   "execution_count": 25,
   "id": "594924da",
   "metadata": {},
   "outputs": [
    {
     "name": "stdout",
     "output_type": "stream",
     "text": [
      "Hello world, My name is Abhijeet!\n"
     ]
    }
   ],
   "source": [
    "print('Hello world, My name is Abhijeet!')"
   ]
  },
  {
   "cell_type": "code",
   "execution_count": 26,
   "id": "967a8096",
   "metadata": {},
   "outputs": [],
   "source": [
    "# print()"
   ]
  },
  {
   "cell_type": "code",
   "execution_count": 27,
   "id": "f19237ea",
   "metadata": {},
   "outputs": [],
   "source": [
    "def summer(a, b):\n",
    "    print(a + b)\n",
    "    print(a)\n",
    "    print(b)"
   ]
  },
  {
   "cell_type": "code",
   "execution_count": 28,
   "id": "dc36b5f5",
   "metadata": {},
   "outputs": [
    {
     "name": "stdout",
     "output_type": "stream",
     "text": [
      "30\n",
      "10\n",
      "20\n"
     ]
    }
   ],
   "source": [
    "summer(10, 20)"
   ]
  },
  {
   "cell_type": "code",
   "execution_count": 29,
   "id": "3baebb55",
   "metadata": {},
   "outputs": [
    {
     "name": "stdout",
     "output_type": "stream",
     "text": [
      "<function summer at 0x7facf79b1310>\n"
     ]
    }
   ],
   "source": [
    "print(summer)"
   ]
  },
  {
   "cell_type": "code",
   "execution_count": 30,
   "id": "dc538d3e",
   "metadata": {},
   "outputs": [
    {
     "data": {
      "text/plain": [
       "<function __main__.summer(a, b)>"
      ]
     },
     "execution_count": 30,
     "metadata": {},
     "output_type": "execute_result"
    }
   ],
   "source": [
    "summer"
   ]
  },
  {
   "cell_type": "code",
   "execution_count": 31,
   "id": "d105cb96",
   "metadata": {},
   "outputs": [
    {
     "data": {
      "text/plain": [
       "4"
      ]
     },
     "execution_count": 31,
     "metadata": {},
     "output_type": "execute_result"
    }
   ],
   "source": [
    "a"
   ]
  },
  {
   "cell_type": "code",
   "execution_count": 32,
   "id": "53cc6cfd",
   "metadata": {},
   "outputs": [
    {
     "name": "stdout",
     "output_type": "stream",
     "text": [
      "4\n"
     ]
    }
   ],
   "source": [
    "print(a)"
   ]
  },
  {
   "cell_type": "code",
   "execution_count": 33,
   "id": "e5ab8929",
   "metadata": {},
   "outputs": [
    {
     "name": "stdout",
     "output_type": "stream",
     "text": [
      "3\n"
     ]
    }
   ],
   "source": [
    "print(\"3\")"
   ]
  },
  {
   "cell_type": "code",
   "execution_count": 34,
   "id": "665dd389",
   "metadata": {},
   "outputs": [
    {
     "data": {
      "text/plain": [
       "<function print>"
      ]
     },
     "execution_count": 34,
     "metadata": {},
     "output_type": "execute_result"
    }
   ],
   "source": [
    "print"
   ]
  },
  {
   "cell_type": "code",
   "execution_count": 35,
   "id": "aa096963",
   "metadata": {},
   "outputs": [
    {
     "name": "stdout",
     "output_type": "stream",
     "text": [
      "30\n",
      "20\n",
      "10\n"
     ]
    }
   ],
   "source": [
    "a = 20\n",
    "b = 10\n",
    "summer(a, b)"
   ]
  },
  {
   "cell_type": "code",
   "execution_count": 36,
   "id": "a7a29511",
   "metadata": {},
   "outputs": [
    {
     "name": "stdout",
     "output_type": "stream",
     "text": [
      "120\n",
      "20\n",
      "100\n"
     ]
    }
   ],
   "source": [
    "first = 20\n",
    "second = 100\n",
    "summer(first, second)"
   ]
  },
  {
   "cell_type": "code",
   "execution_count": 37,
   "id": "447175e5",
   "metadata": {},
   "outputs": [
    {
     "data": {
      "text/plain": [
       "20"
      ]
     },
     "execution_count": 37,
     "metadata": {},
     "output_type": "execute_result"
    }
   ],
   "source": [
    "a"
   ]
  },
  {
   "cell_type": "code",
   "execution_count": 38,
   "id": "67d5241d",
   "metadata": {},
   "outputs": [
    {
     "data": {
      "text/plain": [
       "4469075232"
      ]
     },
     "execution_count": 38,
     "metadata": {},
     "output_type": "execute_result"
    }
   ],
   "source": [
    "id(a)"
   ]
  },
  {
   "cell_type": "code",
   "execution_count": 39,
   "id": "2b337ad1",
   "metadata": {},
   "outputs": [
    {
     "data": {
      "text/plain": [
       "140380865237776"
      ]
     },
     "execution_count": 39,
     "metadata": {},
     "output_type": "execute_result"
    }
   ],
   "source": [
    "id(summer)"
   ]
  },
  {
   "cell_type": "code",
   "execution_count": 40,
   "id": "b150355c",
   "metadata": {},
   "outputs": [
    {
     "data": {
      "text/plain": [
       "140380865087920"
      ]
     },
     "execution_count": 40,
     "metadata": {},
     "output_type": "execute_result"
    }
   ],
   "source": [
    "id(c)"
   ]
  },
  {
   "cell_type": "code",
   "execution_count": 41,
   "id": "1a7d2884",
   "metadata": {},
   "outputs": [],
   "source": [
    "c = \"hello\""
   ]
  },
  {
   "cell_type": "code",
   "execution_count": 42,
   "id": "5ac61812",
   "metadata": {},
   "outputs": [
    {
     "data": {
      "text/plain": [
       "140380860436784"
      ]
     },
     "execution_count": 42,
     "metadata": {},
     "output_type": "execute_result"
    }
   ],
   "source": [
    "id(c)"
   ]
  },
  {
   "cell_type": "code",
   "execution_count": 43,
   "id": "7280116e",
   "metadata": {},
   "outputs": [
    {
     "name": "stdout",
     "output_type": "stream",
     "text": [
      "Hello world 200\n"
     ]
    }
   ],
   "source": [
    "print(\"Hello\", \"world\", 200)"
   ]
  },
  {
   "cell_type": "code",
   "execution_count": 44,
   "id": "b3a47c3a",
   "metadata": {},
   "outputs": [],
   "source": [
    "def memory(a):\n",
    "    print(\"The value of the argument is:\", a)\n",
    "    print(\"Type of argument\", type(a))\n",
    "    print(\"The memory address of the argument is:\", id(a))"
   ]
  },
  {
   "cell_type": "code",
   "execution_count": 45,
   "id": "e4b4c640",
   "metadata": {},
   "outputs": [
    {
     "name": "stdout",
     "output_type": "stream",
     "text": [
      "The value of the argument is: 20\n",
      "Type of argument <class 'int'>\n",
      "The memory address of the argument is: 4469075232\n"
     ]
    }
   ],
   "source": [
    "memory(a)"
   ]
  },
  {
   "cell_type": "code",
   "execution_count": 46,
   "id": "ab44910e",
   "metadata": {},
   "outputs": [],
   "source": [
    "c = '.'"
   ]
  },
  {
   "cell_type": "code",
   "execution_count": 47,
   "id": "c2088ca2",
   "metadata": {},
   "outputs": [
    {
     "data": {
      "text/plain": [
       "46"
      ]
     },
     "execution_count": 47,
     "metadata": {},
     "output_type": "execute_result"
    }
   ],
   "source": [
    "ord(c)"
   ]
  },
  {
   "cell_type": "code",
   "execution_count": 48,
   "id": "0e010aee",
   "metadata": {},
   "outputs": [
    {
     "name": "stdout",
     "output_type": "stream",
     "text": [
      "The value of the argument is: <built-in function ord>\n",
      "Type of argument <class 'builtin_function_or_method'>\n",
      "The memory address of the argument is: 140380798884576\n"
     ]
    }
   ],
   "source": [
    "memory(ord)"
   ]
  },
  {
   "cell_type": "code",
   "execution_count": 49,
   "id": "497d9d08",
   "metadata": {},
   "outputs": [
    {
     "name": "stdout",
     "output_type": "stream",
     "text": [
      "<class 'builtin_function_or_method'>\n"
     ]
    }
   ],
   "source": [
    "print(type(print))"
   ]
  },
  {
   "cell_type": "code",
   "execution_count": 50,
   "id": "7e01124f",
   "metadata": {},
   "outputs": [
    {
     "data": {
      "text/plain": [
       "20"
      ]
     },
     "execution_count": 50,
     "metadata": {},
     "output_type": "execute_result"
    }
   ],
   "source": [
    "a"
   ]
  },
  {
   "cell_type": "code",
   "execution_count": 51,
   "id": "10ac958c",
   "metadata": {},
   "outputs": [],
   "source": [
    "aa = print"
   ]
  },
  {
   "cell_type": "code",
   "execution_count": 52,
   "id": "6fcd009a",
   "metadata": {},
   "outputs": [
    {
     "name": "stdout",
     "output_type": "stream",
     "text": [
      "Hello World!\n"
     ]
    }
   ],
   "source": [
    "aa(\"Hello World!\")"
   ]
  },
  {
   "cell_type": "code",
   "execution_count": 53,
   "id": "9528df22",
   "metadata": {},
   "outputs": [],
   "source": [
    "def printer():\n",
    "    print(\"This function is running\")"
   ]
  },
  {
   "cell_type": "code",
   "execution_count": 54,
   "id": "d82f7587",
   "metadata": {},
   "outputs": [
    {
     "data": {
      "text/plain": [
       "<function __main__.printer()>"
      ]
     },
     "execution_count": 54,
     "metadata": {},
     "output_type": "execute_result"
    }
   ],
   "source": [
    "printer"
   ]
  },
  {
   "cell_type": "code",
   "execution_count": 55,
   "id": "199fcfa1",
   "metadata": {},
   "outputs": [
    {
     "name": "stdout",
     "output_type": "stream",
     "text": [
      "30\n",
      "10\n",
      "20\n",
      "None\n"
     ]
    }
   ],
   "source": [
    "print(summer(10, 20))"
   ]
  },
  {
   "cell_type": "code",
   "execution_count": 56,
   "id": "fc93e48d",
   "metadata": {},
   "outputs": [
    {
     "name": "stdout",
     "output_type": "stream",
     "text": [
      "30\n",
      "10\n",
      "20\n"
     ]
    }
   ],
   "source": [
    "summer(10, 20)"
   ]
  },
  {
   "cell_type": "code",
   "execution_count": 57,
   "id": "1f9ff70f",
   "metadata": {},
   "outputs": [],
   "source": [
    "def summer(a, b):\n",
    "    print(a + b)\n",
    "    print(a)\n",
    "    print(b)\n",
    "    return (a + b), (a - b)    # Returns the value of (a+b) so that it can be used in future"
   ]
  },
  {
   "cell_type": "code",
   "execution_count": 58,
   "id": "2b0e857f",
   "metadata": {},
   "outputs": [
    {
     "name": "stdout",
     "output_type": "stream",
     "text": [
      "30\n",
      "10\n",
      "20\n"
     ]
    }
   ],
   "source": [
    "s, p = summer(10, 20)\n",
    "s = s + 5\n",
    "p = p - 5"
   ]
  },
  {
   "cell_type": "code",
   "execution_count": 59,
   "id": "0bf951ea",
   "metadata": {},
   "outputs": [
    {
     "name": "stdout",
     "output_type": "stream",
     "text": [
      "35 -15\n"
     ]
    }
   ],
   "source": [
    "print(s, p)"
   ]
  },
  {
   "cell_type": "code",
   "execution_count": 60,
   "id": "2a8cd4bf",
   "metadata": {},
   "outputs": [
    {
     "name": "stdout",
     "output_type": "stream",
     "text": [
      "30\n",
      "10\n",
      "20\n",
      "(30, -10)\n"
     ]
    }
   ],
   "source": [
    "print(summer(10, 20))"
   ]
  },
  {
   "cell_type": "code",
   "execution_count": 61,
   "id": "a3d19b94",
   "metadata": {},
   "outputs": [],
   "source": [
    "def name_printer(name):\n",
    "    print(\"Hello\", name)\n",
    "    name = \"Hello \" + name\n",
    "    return name"
   ]
  },
  {
   "cell_type": "code",
   "execution_count": 62,
   "id": "2a0a2dd6",
   "metadata": {},
   "outputs": [
    {
     "name": "stdout",
     "output_type": "stream",
     "text": [
      "Hello Abhijeet\n"
     ]
    }
   ],
   "source": [
    "name = name_printer('Abhijeet')"
   ]
  },
  {
   "cell_type": "code",
   "execution_count": 63,
   "id": "7ecbcf56",
   "metadata": {},
   "outputs": [
    {
     "name": "stdout",
     "output_type": "stream",
     "text": [
      "Hello Abhijeet\n"
     ]
    }
   ],
   "source": [
    "print(name)"
   ]
  },
  {
   "cell_type": "code",
   "execution_count": 64,
   "id": "0207f5dd",
   "metadata": {},
   "outputs": [
    {
     "name": "stdout",
     "output_type": "stream",
     "text": [
      "Hello world\n"
     ]
    }
   ],
   "source": [
    "a = \"Hello \" + 'world'\n",
    "print(a)"
   ]
  },
  {
   "cell_type": "code",
   "execution_count": 65,
   "id": "39d8ddef",
   "metadata": {},
   "outputs": [],
   "source": [
    "def calc(a, b):\n",
    "#     add = a+b\n",
    "#     sub = a-b\n",
    "#     mul = a*b\n",
    "#     div = a/b\n",
    "    return (a + b), (a - b), (a * b), (a / b)"
   ]
  },
  {
   "cell_type": "code",
   "execution_count": 66,
   "id": "86d63ceb",
   "metadata": {},
   "outputs": [
    {
     "name": "stdout",
     "output_type": "stream",
     "text": [
      "(3, -1, 2, 0.5)\n"
     ]
    }
   ],
   "source": [
    "print(calc(1, 2))"
   ]
  },
  {
   "cell_type": "code",
   "execution_count": 67,
   "id": "3ec7ce24",
   "metadata": {},
   "outputs": [],
   "source": [
    "add, sub, mul, div = calc(10, 20)"
   ]
  },
  {
   "cell_type": "code",
   "execution_count": 68,
   "id": "5bef37a6",
   "metadata": {},
   "outputs": [
    {
     "name": "stdout",
     "output_type": "stream",
     "text": [
      "0.5\n"
     ]
    }
   ],
   "source": [
    "print(div)"
   ]
  },
  {
   "cell_type": "code",
   "execution_count": 69,
   "id": "b79db1f6",
   "metadata": {},
   "outputs": [],
   "source": [
    "add, _, mul, _ = calc(10, 20)"
   ]
  },
  {
   "cell_type": "code",
   "execution_count": 70,
   "id": "c6009e8b",
   "metadata": {},
   "outputs": [
    {
     "data": {
      "text/plain": [
       "0.5"
      ]
     },
     "execution_count": 70,
     "metadata": {},
     "output_type": "execute_result"
    }
   ],
   "source": [
    "_"
   ]
  },
  {
   "cell_type": "code",
   "execution_count": 71,
   "id": "2729dbaa",
   "metadata": {},
   "outputs": [],
   "source": [
    "def first(name):\n",
    "    return name\n",
    "def second(name):\n",
    "    return name"
   ]
  },
  {
   "cell_type": "code",
   "execution_count": 72,
   "id": "a3b56de7",
   "metadata": {},
   "outputs": [],
   "source": [
    "# fname = first('Abhijeet')\n",
    "# lname = second('Bhattacharya')"
   ]
  },
  {
   "cell_type": "code",
   "execution_count": 73,
   "id": "3b64c908",
   "metadata": {},
   "outputs": [],
   "source": [
    "def name(a, b, c, d):\n",
    "    print(a(c), b(d))"
   ]
  },
  {
   "cell_type": "code",
   "execution_count": 74,
   "id": "0919cbf0",
   "metadata": {},
   "outputs": [
    {
     "name": "stdout",
     "output_type": "stream",
     "text": [
      "Abhijeet Bhattacharya\n"
     ]
    }
   ],
   "source": [
    "name(first, second, 'Abhijeet', 'Bhattacharya')"
   ]
  },
  {
   "cell_type": "code",
   "execution_count": 75,
   "id": "9689876b",
   "metadata": {},
   "outputs": [
    {
     "name": "stdout",
     "output_type": "stream",
     "text": [
      "<function first at 0x7facf7a190d0>\n"
     ]
    }
   ],
   "source": [
    "print(first)"
   ]
  },
  {
   "cell_type": "code",
   "execution_count": 76,
   "id": "09a3a70d",
   "metadata": {},
   "outputs": [],
   "source": [
    "# If\n",
    "# Elif\n",
    "# Else\n",
    "# Switch"
   ]
  },
  {
   "cell_type": "code",
   "execution_count": 77,
   "id": "f5d63b07",
   "metadata": {},
   "outputs": [],
   "source": [
    "b = 2"
   ]
  },
  {
   "cell_type": "code",
   "execution_count": 78,
   "id": "40e8e230",
   "metadata": {},
   "outputs": [
    {
     "data": {
      "text/plain": [
       "False"
      ]
     },
     "execution_count": 78,
     "metadata": {},
     "output_type": "execute_result"
    }
   ],
   "source": [
    "b == 29"
   ]
  },
  {
   "cell_type": "code",
   "execution_count": 79,
   "id": "f257045c",
   "metadata": {},
   "outputs": [
    {
     "data": {
      "text/plain": [
       "False"
      ]
     },
     "execution_count": 79,
     "metadata": {},
     "output_type": "execute_result"
    }
   ],
   "source": [
    "b > 100"
   ]
  },
  {
   "cell_type": "code",
   "execution_count": 80,
   "id": "1c233db3",
   "metadata": {},
   "outputs": [],
   "source": [
    "if b > 10:\n",
    "    print(\"The value of b is greater than 10\")"
   ]
  },
  {
   "cell_type": "code",
   "execution_count": 81,
   "id": "0ca95d63",
   "metadata": {},
   "outputs": [],
   "source": [
    "if b > 20:\n",
    "    print(\"The value of b is greater than 20\")"
   ]
  },
  {
   "cell_type": "code",
   "execution_count": 82,
   "id": "ebc63976",
   "metadata": {},
   "outputs": [],
   "source": [
    "if b > 30:\n",
    "    print(\"The value of b is greater than 30\")"
   ]
  },
  {
   "cell_type": "code",
   "execution_count": 83,
   "id": "19a7a6f8",
   "metadata": {},
   "outputs": [
    {
     "name": "stdout",
     "output_type": "stream",
     "text": [
      "Value greater than 20 but less than 30\n"
     ]
    }
   ],
   "source": [
    "if b == 10:\n",
    "    print(\"The value of b is greater than 10\")\n",
    "elif b > 20:\n",
    "    print(\"Value also greater than 20\")\n",
    "if b > 30:\n",
    "    print(\"Value greater than 30\")\n",
    "if b < 30:\n",
    "    print(\"Value greater than 20 but less than 30\")\n",
    "else:\n",
    "    print(\"Value not in scale\")"
   ]
  },
  {
   "cell_type": "code",
   "execution_count": 84,
   "id": "6c8aad28",
   "metadata": {},
   "outputs": [
    {
     "data": {
      "text/plain": [
       "2"
      ]
     },
     "execution_count": 84,
     "metadata": {},
     "output_type": "execute_result"
    }
   ],
   "source": [
    "b"
   ]
  },
  {
   "cell_type": "code",
   "execution_count": 85,
   "id": "941cde04",
   "metadata": {},
   "outputs": [],
   "source": [
    "integer = 10"
   ]
  },
  {
   "cell_type": "code",
   "execution_count": 86,
   "id": "993c8643",
   "metadata": {
    "scrolled": true
   },
   "outputs": [
    {
     "name": "stdout",
     "output_type": "stream",
     "text": [
      "Hello\n"
     ]
    }
   ],
   "source": [
    "if integer == 9:\n",
    "    print(\"Hi\")\n",
    "if integer == 10:\n",
    "    print(\"Hello\")\n",
    "else:\n",
    "    print(\"Bye\")"
   ]
  },
  {
   "cell_type": "code",
   "execution_count": 87,
   "id": "a12aa6bd",
   "metadata": {},
   "outputs": [
    {
     "name": "stdout",
     "output_type": "stream",
     "text": [
      "10\n",
      "not 10\n"
     ]
    }
   ],
   "source": [
    "if integer == 10:\n",
    "    print(\"10\")\n",
    "print(\"not 10\")"
   ]
  },
  {
   "cell_type": "code",
   "execution_count": 88,
   "id": "5048f4fd",
   "metadata": {},
   "outputs": [],
   "source": [
    "def func(a,b):\n",
    "    if(a==b):\n",
    "        print(\"a is equal to b\")\n",
    "    elif(a>b):\n",
    "        print(\"a is greater than b\")\n",
    "    else:\n",
    "        print(\"b is greater than a\")"
   ]
  },
  {
   "cell_type": "code",
   "execution_count": 89,
   "id": "c56f4052",
   "metadata": {},
   "outputs": [],
   "source": [
    "def compar(a,b):\n",
    "    if a==b:\n",
    "        p = str(a) + \" is equal to \" + str(b)\n",
    "        return p\n",
    "    \n",
    "    elif a>b:\n",
    "        q = str(a) + \" is greater than \" + str(b)\n",
    "        return q\n",
    "    \n",
    "    else :\n",
    "        s = str(b) + \" is greater than \" + str(a)\n",
    "        return s"
   ]
  },
  {
   "cell_type": "code",
   "execution_count": 90,
   "id": "2a9966bc",
   "metadata": {},
   "outputs": [
    {
     "name": "stdout",
     "output_type": "stream",
     "text": [
      "b is greater than a\n"
     ]
    }
   ],
   "source": [
    "func(10, 20)"
   ]
  },
  {
   "cell_type": "code",
   "execution_count": 91,
   "id": "106e5861",
   "metadata": {},
   "outputs": [
    {
     "name": "stdout",
     "output_type": "stream",
     "text": [
      "enter the first no.2\n",
      "enter the second no.2\n"
     ]
    }
   ],
   "source": [
    "a = int(input(\"enter the first no.\"))\n",
    "\n",
    "b = int(input(\"enter the second no.\"))"
   ]
  },
  {
   "cell_type": "code",
   "execution_count": 92,
   "id": "9358a726",
   "metadata": {},
   "outputs": [
    {
     "name": "stdout",
     "output_type": "stream",
     "text": [
      "A and B are equal\n"
     ]
    }
   ],
   "source": [
    "if a>b:\n",
    "  print(\"A is greater than B\")\n",
    "elif a<b:\n",
    "  print(\"B is greater than A\")\n",
    "else :\n",
    "  print(\"A and B are equal\")"
   ]
  },
  {
   "cell_type": "code",
   "execution_count": 93,
   "id": "5278049e",
   "metadata": {},
   "outputs": [
    {
     "name": "stdout",
     "output_type": "stream",
     "text": [
      "b is greater than a\n"
     ]
    }
   ],
   "source": [
    "def greater(a,b):\n",
    "    if a > b:\n",
    "        print('a is greater than b')\n",
    "    else :\n",
    "        print('b is greater than a')\n",
    "greater(10,10)"
   ]
  },
  {
   "cell_type": "code",
   "execution_count": 94,
   "id": "9e522295",
   "metadata": {},
   "outputs": [],
   "source": [
    "def fun(a,b):\n",
    "    if a>b:\n",
    "        print(\"A is greater\")\n",
    "    elif a<b:\n",
    "        print(\"B is greater\")\n",
    "    else:\n",
    "        print(\"Equal\")"
   ]
  },
  {
   "cell_type": "code",
   "execution_count": 95,
   "id": "16383d9a",
   "metadata": {},
   "outputs": [
    {
     "name": "stdout",
     "output_type": "stream",
     "text": [
      "Equal\n"
     ]
    }
   ],
   "source": [
    "fun(10, 10)"
   ]
  },
  {
   "cell_type": "code",
   "execution_count": 96,
   "id": "d7aec7c5",
   "metadata": {},
   "outputs": [
    {
     "name": "stdout",
     "output_type": "stream",
     "text": [
      "Enter a number: 2\n"
     ]
    }
   ],
   "source": [
    "b = input(\"Enter a number: \")"
   ]
  },
  {
   "cell_type": "code",
   "execution_count": 97,
   "id": "acd13187",
   "metadata": {},
   "outputs": [
    {
     "name": "stdout",
     "output_type": "stream",
     "text": [
      "2 <class 'str'>\n"
     ]
    }
   ],
   "source": [
    "print(b, type(b))"
   ]
  },
  {
   "cell_type": "code",
   "execution_count": 98,
   "id": "d423d0b8",
   "metadata": {},
   "outputs": [
    {
     "name": "stdout",
     "output_type": "stream",
     "text": [
      "2\n"
     ]
    },
    {
     "data": {
      "text/plain": [
       "'2'"
      ]
     },
     "execution_count": 98,
     "metadata": {},
     "output_type": "execute_result"
    }
   ],
   "source": [
    "input()"
   ]
  },
  {
   "cell_type": "code",
   "execution_count": 99,
   "id": "068e33b8",
   "metadata": {},
   "outputs": [
    {
     "data": {
      "text/plain": [
       "'2'"
      ]
     },
     "execution_count": 99,
     "metadata": {},
     "output_type": "execute_result"
    }
   ],
   "source": [
    "b"
   ]
  },
  {
   "cell_type": "code",
   "execution_count": 100,
   "id": "d64c9f99",
   "metadata": {},
   "outputs": [
    {
     "name": "stdout",
     "output_type": "stream",
     "text": [
      "False\n"
     ]
    }
   ],
   "source": [
    "print(b == '6')"
   ]
  },
  {
   "cell_type": "code",
   "execution_count": 101,
   "id": "3304e99d",
   "metadata": {},
   "outputs": [],
   "source": [
    "# Type casting\n",
    "b = int(b)"
   ]
  },
  {
   "cell_type": "code",
   "execution_count": 102,
   "id": "b69e5d7a",
   "metadata": {},
   "outputs": [
    {
     "data": {
      "text/plain": [
       "int"
      ]
     },
     "execution_count": 102,
     "metadata": {},
     "output_type": "execute_result"
    }
   ],
   "source": [
    "type(b)"
   ]
  },
  {
   "cell_type": "code",
   "execution_count": 103,
   "id": "030730c4",
   "metadata": {},
   "outputs": [
    {
     "name": "stdout",
     "output_type": "stream",
     "text": [
      "Enter a number: 2\n",
      "<class 'int'>\n"
     ]
    }
   ],
   "source": [
    "b = int(input(\"Enter a number: \"))\n",
    "print(type(b))"
   ]
  },
  {
   "cell_type": "code",
   "execution_count": 104,
   "id": "374066e5",
   "metadata": {},
   "outputs": [
    {
     "name": "stdout",
     "output_type": "stream",
     "text": [
      "False\n"
     ]
    }
   ],
   "source": [
    "print(b == 22)"
   ]
  },
  {
   "cell_type": "code",
   "execution_count": 105,
   "id": "950cbed3",
   "metadata": {},
   "outputs": [
    {
     "name": "stdout",
     "output_type": "stream",
     "text": [
      "Enter argument2\n",
      "Enter argument2\n",
      "Equal\n"
     ]
    }
   ],
   "source": [
    "fun(int(input('Enter argument')), int(input('Enter argument')))"
   ]
  },
  {
   "cell_type": "code",
   "execution_count": 106,
   "id": "bcdf5e44",
   "metadata": {},
   "outputs": [
    {
     "name": "stdout",
     "output_type": "stream",
     "text": [
      "<class 'str'>\n"
     ]
    }
   ],
   "source": [
    "print(type(str(b)))"
   ]
  },
  {
   "cell_type": "code",
   "execution_count": 107,
   "id": "cee5c6cf",
   "metadata": {},
   "outputs": [
    {
     "data": {
      "text/plain": [
       "2"
      ]
     },
     "execution_count": 107,
     "metadata": {},
     "output_type": "execute_result"
    }
   ],
   "source": [
    "b"
   ]
  },
  {
   "cell_type": "code",
   "execution_count": 108,
   "id": "239a3587",
   "metadata": {},
   "outputs": [
    {
     "data": {
      "text/plain": [
       "int"
      ]
     },
     "execution_count": 108,
     "metadata": {},
     "output_type": "execute_result"
    }
   ],
   "source": [
    "b = str(b)\n",
    "type(int(b))"
   ]
  },
  {
   "cell_type": "code",
   "execution_count": 109,
   "id": "f48d233d",
   "metadata": {},
   "outputs": [
    {
     "data": {
      "text/plain": [
       "str"
      ]
     },
     "execution_count": 109,
     "metadata": {},
     "output_type": "execute_result"
    }
   ],
   "source": [
    "type(b)"
   ]
  },
  {
   "cell_type": "code",
   "execution_count": 110,
   "id": "cf35680c",
   "metadata": {},
   "outputs": [
    {
     "name": "stdout",
     "output_type": "stream",
     "text": [
      "Enter random values: 2\n",
      "2\n"
     ]
    }
   ],
   "source": [
    "print(int(input('Enter random values: ')))"
   ]
  },
  {
   "cell_type": "code",
   "execution_count": 111,
   "id": "da82db1d",
   "metadata": {},
   "outputs": [],
   "source": [
    "def odd_even(s):\n",
    "    if s % 2 == 0:\n",
    "        print(\"EVEN\")\n",
    "    else:\n",
    "        print(\"ODD\")"
   ]
  },
  {
   "cell_type": "code",
   "execution_count": 112,
   "id": "3244b43f",
   "metadata": {},
   "outputs": [
    {
     "name": "stdout",
     "output_type": "stream",
     "text": [
      "Enter number2\n",
      "EVEN\n"
     ]
    }
   ],
   "source": [
    "odd_even(int(input('Enter number')))"
   ]
  },
  {
   "cell_type": "code",
   "execution_count": 113,
   "id": "dd881bc6",
   "metadata": {},
   "outputs": [
    {
     "name": "stdout",
     "output_type": "stream",
     "text": [
      "enter2\n",
      "str\n"
     ]
    }
   ],
   "source": [
    "def intbool(a):\n",
    "    if(type(a)==int):\n",
    "        print('int')\n",
    "    elif(type(a)==str):\n",
    "        print('str')\n",
    "    else:\n",
    "        print('bool')\n",
    "a = input(\"enter\")\n",
    "intbool(a)"
   ]
  },
  {
   "cell_type": "code",
   "execution_count": 114,
   "id": "43fa1587",
   "metadata": {},
   "outputs": [],
   "source": [
    "# Loops\n",
    "# While\n",
    "# For"
   ]
  },
  {
   "cell_type": "code",
   "execution_count": 115,
   "id": "f55b7f93",
   "metadata": {},
   "outputs": [
    {
     "name": "stdout",
     "output_type": "stream",
     "text": [
      "hello\n"
     ]
    }
   ],
   "source": [
    "print(\"hello\")"
   ]
  },
  {
   "cell_type": "code",
   "execution_count": 116,
   "id": "d9fb9839",
   "metadata": {},
   "outputs": [
    {
     "name": "stdout",
     "output_type": "stream",
     "text": [
      "Hello World!\n",
      "Hello World!\n",
      "Hello World!\n",
      "Hello World!\n",
      "Hello World!\n"
     ]
    }
   ],
   "source": [
    "for i in range(5):\n",
    "    print(\"Hello World!\")"
   ]
  },
  {
   "cell_type": "code",
   "execution_count": 117,
   "id": "8576a44d",
   "metadata": {},
   "outputs": [
    {
     "name": "stdout",
     "output_type": "stream",
     "text": [
      "Enter a number2\n",
      "<class 'int'>\n",
      "Enter a number2\n",
      "<class 'int'>\n"
     ]
    }
   ],
   "source": [
    "for i in range(2):\n",
    "    i = int(input(\"Enter a number\"))\n",
    "    print(type(i))"
   ]
  },
  {
   "cell_type": "code",
   "execution_count": 118,
   "id": "b8011e4b",
   "metadata": {},
   "outputs": [
    {
     "name": "stdout",
     "output_type": "stream",
     "text": [
      "<class 'str'>\n"
     ]
    }
   ],
   "source": [
    "a = '2'\n",
    "print(type(a))"
   ]
  },
  {
   "cell_type": "code",
   "execution_count": 119,
   "id": "a29b2bc6",
   "metadata": {},
   "outputs": [],
   "source": [
    "def fact(a):\n",
    "    x=1\n",
    "    for i in range(0,a):\n",
    "        x= x*(i+1)\n",
    "    return x"
   ]
  },
  {
   "cell_type": "code",
   "execution_count": 120,
   "id": "99560387",
   "metadata": {},
   "outputs": [
    {
     "name": "stdout",
     "output_type": "stream",
     "text": [
      "Enter Number2\n"
     ]
    },
    {
     "data": {
      "text/plain": [
       "2"
      ]
     },
     "execution_count": 120,
     "metadata": {},
     "output_type": "execute_result"
    }
   ],
   "source": [
    "fact(int(input(\"Enter Number\")))"
   ]
  },
  {
   "cell_type": "code",
   "execution_count": 121,
   "id": "7d01ce66",
   "metadata": {},
   "outputs": [],
   "source": [
    "def factorial():\n",
    "    a=5\n",
    "    fact=1\n",
    "    for i in range(1,a+1):\n",
    "        fact=fact*i\n",
    "    return fact"
   ]
  },
  {
   "cell_type": "code",
   "execution_count": 122,
   "id": "4a64d9b0",
   "metadata": {},
   "outputs": [
    {
     "data": {
      "text/plain": [
       "120"
      ]
     },
     "execution_count": 122,
     "metadata": {},
     "output_type": "execute_result"
    }
   ],
   "source": [
    "factorial()"
   ]
  },
  {
   "cell_type": "code",
   "execution_count": 123,
   "id": "1eba8053",
   "metadata": {},
   "outputs": [],
   "source": [
    "def findSumBetween(a, b):\n",
    "    ans = 0\n",
    "    for k in range(a,b+1):\n",
    "        ans = ans + k\n",
    "    return ans"
   ]
  },
  {
   "cell_type": "code",
   "execution_count": 124,
   "id": "0f9860c4",
   "metadata": {},
   "outputs": [
    {
     "data": {
      "text/plain": [
       "3"
      ]
     },
     "execution_count": 124,
     "metadata": {},
     "output_type": "execute_result"
    }
   ],
   "source": [
    "findSumBetween(1, 2)"
   ]
  },
  {
   "cell_type": "code",
   "execution_count": 125,
   "id": "d44329a9",
   "metadata": {},
   "outputs": [],
   "source": [
    "def findSumBetween(b, a=5):\n",
    "    ans = 0\n",
    "    for k in range(a,b+1):\n",
    "        ans = ans + k\n",
    "#     print(ans)\n",
    "    return ans"
   ]
  },
  {
   "cell_type": "code",
   "execution_count": 126,
   "id": "4aceb2ae",
   "metadata": {},
   "outputs": [
    {
     "name": "stdout",
     "output_type": "stream",
     "text": [
      "55\n",
      "45\n"
     ]
    }
   ],
   "source": [
    "print(findSumBetween(10, 0))\n",
    "print(findSumBetween(10))"
   ]
  },
  {
   "cell_type": "code",
   "execution_count": 127,
   "id": "6831cbcd",
   "metadata": {},
   "outputs": [
    {
     "name": "stdout",
     "output_type": "stream",
     "text": [
      "The Iterator has a value of:  1\n",
      "The Iterator has a value of:  2\n",
      "The Iterator has a value of:  3\n",
      "The Iterator has a value of:  4\n"
     ]
    }
   ],
   "source": [
    "for i in range(1, 5):\n",
    "    print(\"The Iterator has a value of: \", i)"
   ]
  },
  {
   "cell_type": "code",
   "execution_count": 128,
   "id": "bf13dfcf",
   "metadata": {},
   "outputs": [],
   "source": [
    "string = \"Hello world!\""
   ]
  },
  {
   "cell_type": "code",
   "execution_count": 129,
   "id": "76210756",
   "metadata": {},
   "outputs": [
    {
     "name": "stdout",
     "output_type": "stream",
     "text": [
      "H\n",
      "e\n",
      "l\n",
      "l\n",
      "o\n",
      " \n",
      "w\n",
      "o\n",
      "r\n",
      "l\n",
      "d\n",
      "!\n"
     ]
    }
   ],
   "source": [
    "for i in string:\n",
    "    print(i)"
   ]
  },
  {
   "cell_type": "code",
   "execution_count": 130,
   "id": "3e9ae456",
   "metadata": {},
   "outputs": [
    {
     "name": "stdout",
     "output_type": "stream",
     "text": [
      "2\n"
     ]
    }
   ],
   "source": [
    "string = '2'\n",
    "for i in string:\n",
    "    print(i)"
   ]
  },
  {
   "cell_type": "code",
   "execution_count": 131,
   "id": "88e5e1a8",
   "metadata": {},
   "outputs": [],
   "source": [
    "# While Loop"
   ]
  },
  {
   "cell_type": "code",
   "execution_count": 132,
   "id": "e9e26642",
   "metadata": {},
   "outputs": [
    {
     "name": "stdout",
     "output_type": "stream",
     "text": [
      "Current value of number is --> 0\n",
      "Current value of number is --> 1\n",
      "Current value of number is --> 2\n",
      "Current value of number is --> 3\n",
      "Current value of number is --> 4\n",
      "Current value of number is --> 5\n",
      "Current value of number is --> 6\n",
      "Current value of number is --> 7\n",
      "Current value of number is --> 8\n",
      "Current value of number is --> 9\n",
      "Current value of number is --> 10\n"
     ]
    }
   ],
   "source": [
    "number_1 = 0\n",
    "while number_1 <= 10:\n",
    "    print(\"Current value of number is -->\", number_1)\n",
    "    number_1 = number_1 + 1"
   ]
  },
  {
   "cell_type": "code",
   "execution_count": 133,
   "id": "d9ed3a4d",
   "metadata": {},
   "outputs": [
    {
     "data": {
      "text/plain": [
       "11"
      ]
     },
     "execution_count": 133,
     "metadata": {},
     "output_type": "execute_result"
    }
   ],
   "source": [
    "number_1"
   ]
  },
  {
   "cell_type": "code",
   "execution_count": 134,
   "id": "a795a097",
   "metadata": {},
   "outputs": [],
   "source": [
    "# Break\n",
    "# Continue"
   ]
  },
  {
   "cell_type": "code",
   "execution_count": 135,
   "id": "8312edf5",
   "metadata": {},
   "outputs": [
    {
     "name": "stdout",
     "output_type": "stream",
     "text": [
      "0\n",
      "1\n",
      "2\n",
      "3\n",
      "4\n"
     ]
    }
   ],
   "source": [
    "for i in range(10):\n",
    "    if (i == 5):\n",
    "        break\n",
    "    else:\n",
    "        print(i)"
   ]
  },
  {
   "cell_type": "code",
   "execution_count": 136,
   "id": "23f2dd73",
   "metadata": {},
   "outputs": [
    {
     "name": "stdout",
     "output_type": "stream",
     "text": [
      "Value of J: 0\n",
      "0\n",
      "1\n",
      "Value of J: 1\n",
      "0\n",
      "1\n"
     ]
    }
   ],
   "source": [
    "for j in range(500):\n",
    "    if (j == 2):\n",
    "        break\n",
    "    print(\"Value of J:\", j)\n",
    "    for i in range(500):\n",
    "            if (i == 2):\n",
    "                break\n",
    "            else:\n",
    "                print(i)"
   ]
  },
  {
   "cell_type": "code",
   "execution_count": 137,
   "id": "4c0468b0",
   "metadata": {},
   "outputs": [
    {
     "name": "stdout",
     "output_type": "stream",
     "text": [
      "Enter the number:- 2\n",
      "Password Incorrect\n",
      "Enter the number:- 2\n",
      "Password Incorrect\n",
      "Enter the number:- 2\n",
      "Password Incorrect\n",
      "Enter the number:- 2\n",
      "Password Incorrect\n",
      "Enter the number:- 9\n",
      "Password Correct\n"
     ]
    }
   ],
   "source": [
    "# while(1):\n",
    "while(True):\n",
    "    a = int(input(\"Enter the number:- \"))\n",
    "    \n",
    "    if (a==9):\n",
    "        print(\"Password Correct\")\n",
    "        break\n",
    "    else:\n",
    "        print(\"Password Incorrect\")"
   ]
  },
  {
   "cell_type": "code",
   "execution_count": 138,
   "id": "21979a52",
   "metadata": {},
   "outputs": [
    {
     "data": {
      "text/plain": [
       "False"
      ]
     },
     "execution_count": 138,
     "metadata": {},
     "output_type": "execute_result"
    }
   ],
   "source": [
    "number_1 <= 10"
   ]
  },
  {
   "cell_type": "code",
   "execution_count": 139,
   "id": "99afcb62",
   "metadata": {},
   "outputs": [
    {
     "name": "stdout",
     "output_type": "stream",
     "text": [
      "9\n",
      "Password Correct\n"
     ]
    }
   ],
   "source": [
    "for i in range(1000):\n",
    "    a=int(input())\n",
    "    if(a==9):\n",
    "        print(\"Password Correct\")\n",
    "        break\n",
    "    else:\n",
    "        print(\"Password Incorrect\")"
   ]
  },
  {
   "cell_type": "code",
   "execution_count": 140,
   "id": "ecf3d015",
   "metadata": {},
   "outputs": [
    {
     "name": "stdout",
     "output_type": "stream",
     "text": [
      "Value of i: 0\n",
      "0\n",
      "1\n",
      "2\n",
      "3\n",
      "4\n",
      "Value of i: 1\n",
      "0\n",
      "1\n",
      "2\n",
      "3\n",
      "4\n",
      "Value of i: 2\n",
      "0\n",
      "1\n",
      "2\n",
      "3\n",
      "4\n",
      "Value of i: 3\n",
      "0\n",
      "1\n",
      "2\n",
      "3\n",
      "4\n",
      "Value of i: 4\n",
      "0\n",
      "1\n",
      "2\n",
      "3\n",
      "4\n"
     ]
    }
   ],
   "source": [
    "for i in range(5):\n",
    "    print(\"Value of i:\", i)\n",
    "    for j in range(5):\n",
    "        print(j)"
   ]
  },
  {
   "cell_type": "code",
   "execution_count": 141,
   "id": "50c3c15a",
   "metadata": {},
   "outputs": [
    {
     "name": "stdout",
     "output_type": "stream",
     "text": [
      "Enter Value: 9\n",
      "9\n",
      "Enter Value: 0\n"
     ]
    }
   ],
   "source": [
    "for i in range(10):\n",
    "    i = int(input('Enter Value: '))\n",
    "    if i==7:\n",
    "        print(\"Code goes to next iteration in the current loop\")\n",
    "        continue\n",
    "    elif i == 0:\n",
    "        break\n",
    "    print(i)"
   ]
  },
  {
   "cell_type": "code",
   "execution_count": 142,
   "id": "bcc793e9",
   "metadata": {},
   "outputs": [
    {
     "data": {
      "text/plain": [
       "True"
      ]
     },
     "execution_count": 142,
     "metadata": {},
     "output_type": "execute_result"
    }
   ],
   "source": [
    "number_1 != 12"
   ]
  },
  {
   "cell_type": "code",
   "execution_count": 143,
   "id": "a30196c8",
   "metadata": {},
   "outputs": [],
   "source": [
    "a+=10"
   ]
  },
  {
   "cell_type": "code",
   "execution_count": 144,
   "id": "aae64213",
   "metadata": {},
   "outputs": [],
   "source": [
    "a-=10"
   ]
  },
  {
   "cell_type": "code",
   "execution_count": 145,
   "id": "c5af85dd",
   "metadata": {},
   "outputs": [],
   "source": [
    "a*=10"
   ]
  },
  {
   "cell_type": "code",
   "execution_count": 146,
   "id": "fcd38b85",
   "metadata": {},
   "outputs": [],
   "source": [
    "a/=10"
   ]
  },
  {
   "cell_type": "code",
   "execution_count": 147,
   "id": "9b304d53",
   "metadata": {},
   "outputs": [
    {
     "data": {
      "text/plain": [
       "9.0"
      ]
     },
     "execution_count": 147,
     "metadata": {},
     "output_type": "execute_result"
    }
   ],
   "source": [
    "a"
   ]
  },
  {
   "cell_type": "code",
   "execution_count": 148,
   "id": "4016b2f0",
   "metadata": {},
   "outputs": [],
   "source": [
    "a = a**2"
   ]
  },
  {
   "cell_type": "code",
   "execution_count": 149,
   "id": "48ddc489",
   "metadata": {},
   "outputs": [],
   "source": [
    "a = a**0.5"
   ]
  },
  {
   "cell_type": "code",
   "execution_count": 150,
   "id": "835f05e5",
   "metadata": {},
   "outputs": [
    {
     "data": {
      "text/plain": [
       "9.0"
      ]
     },
     "execution_count": 150,
     "metadata": {},
     "output_type": "execute_result"
    }
   ],
   "source": [
    "a"
   ]
  },
  {
   "cell_type": "code",
   "execution_count": 151,
   "id": "b3700699",
   "metadata": {},
   "outputs": [
    {
     "name": "stdout",
     "output_type": "stream",
     "text": [
      "Hello World!\n"
     ]
    }
   ],
   "source": [
    "if (integer == 100) or (integer %2 == 0):\n",
    "    print(\"Hello World!\")\n",
    "else:\n",
    "    print(\"Bye\")"
   ]
  },
  {
   "cell_type": "code",
   "execution_count": 152,
   "id": "bcd2015b",
   "metadata": {},
   "outputs": [
    {
     "name": "stdout",
     "output_type": "stream",
     "text": [
      "Bye\n"
     ]
    }
   ],
   "source": [
    "if (integer == 100) and (integer %2 == 0):\n",
    "    print(\"Hello World!\")\n",
    "else:\n",
    "    print(\"Bye\")"
   ]
  },
  {
   "cell_type": "code",
   "execution_count": 153,
   "id": "8d6fb905",
   "metadata": {},
   "outputs": [
    {
     "name": "stdout",
     "output_type": "stream",
     "text": [
      "Enter a number:3\n",
      "3 is a prime number\n"
     ]
    }
   ],
   "source": [
    "num = int(input(\"Enter a number:\"))\n",
    "\n",
    "flag = False\n",
    "\n",
    "if num == 1:\n",
    "    print('Number is a special number')\n",
    "elif num > 1:\n",
    "    for i in range(2, num - 1):\n",
    "        if (num%i) == 0:\n",
    "            flag = True\n",
    "            break\n",
    "    if flag:\n",
    "        print(num, \"is not a prime number\")\n",
    "    else:\n",
    "        print(num, \"is a prime number\")"
   ]
  },
  {
   "cell_type": "code",
   "execution_count": 154,
   "id": "6e1e26b2",
   "metadata": {},
   "outputs": [
    {
     "name": "stdout",
     "output_type": "stream",
     "text": [
      "The factors of 64 are:\n",
      "1\n",
      "2\n",
      "4\n",
      "8\n",
      "16\n",
      "32\n",
      "64\n"
     ]
    }
   ],
   "source": [
    "def factors(x):\n",
    "    print(\"The factors of\",x,\"are:\")\n",
    "    for i in range(1, x + 1):\n",
    "        if x % i == 0:\n",
    "            print(i)\n",
    "num = 64\n",
    "factors(num)"
   ]
  },
  {
   "cell_type": "code",
   "execution_count": 158,
   "id": "12634435",
   "metadata": {},
   "outputs": [
    {
     "name": "stdout",
     "output_type": "stream",
     "text": [
      "Value of j: 0\n",
      "0\n",
      "1\n",
      "2\n",
      "4\n",
      "Value of j: 1\n",
      "0\n",
      "1\n",
      "2\n",
      "4\n",
      "Value of j: 2\n",
      "0\n",
      "1\n",
      "2\n",
      "4\n"
     ]
    }
   ],
   "source": [
    "for j in range(3):\n",
    "    print(\"Value of j:\", j)\n",
    "    for i in range(5):\n",
    "        if (i==3):\n",
    "            continue\n",
    "        else:\n",
    "            print(i)"
   ]
  },
  {
   "cell_type": "code",
   "execution_count": 159,
   "id": "e487831c",
   "metadata": {},
   "outputs": [
    {
     "name": "stdout",
     "output_type": "stream",
     "text": [
      "Count of all characters :- {'T': 1, 'h': 2, 'e': 3, ' ': 8, 'q': 1, 'u': 2, 'i': 1, 'c': 1, 'k': 1, 'b': 1, 'r': 2, 'o': 4, 'w': 1, 'n': 1, 'f': 1, 'x': 1, 'j': 1, 'm': 1, 'p': 1, 's': 1, 'v': 1, 't': 1, 'l': 1, 'a': 1, 'z': 1, 'y': 1, 'd': 1, 'g': 1}\n"
     ]
    }
   ],
   "source": [
    "string = \"The quick brown fox jumps over the lazy dog\"\n",
    " \n",
    "freq = {}\n",
    " \n",
    "for i in string:\n",
    "    if i in freq:\n",
    "        freq[i] += 1\n",
    "    else:\n",
    "        freq[i] = 1\n",
    "        \n",
    "print(\"Count of all characters :- \"+ str(freq))"
   ]
  },
  {
   "cell_type": "code",
   "execution_count": 160,
   "id": "b996d2d9",
   "metadata": {},
   "outputs": [],
   "source": [
    "# In built data-Type in python\n",
    "# Strings\n",
    "# List\n",
    "# Tuples\n",
    "# Dictionary\n",
    "# Set"
   ]
  },
  {
   "cell_type": "code",
   "execution_count": 161,
   "id": "f5ab6b72",
   "metadata": {},
   "outputs": [],
   "source": [
    "integer = 256\n",
    "integer1 = 256\n",
    "integer2 = 1000"
   ]
  },
  {
   "cell_type": "code",
   "execution_count": 162,
   "id": "d3b068dd",
   "metadata": {},
   "outputs": [
    {
     "name": "stdout",
     "output_type": "stream",
     "text": [
      "4469082784 4469082784 140380865563504\n"
     ]
    }
   ],
   "source": [
    "print(id(integer), id(integer1), id(integer2))"
   ]
  },
  {
   "cell_type": "code",
   "execution_count": 163,
   "id": "66cd1bc9",
   "metadata": {},
   "outputs": [
    {
     "name": "stdout",
     "output_type": "stream",
     "text": [
      "4469082784 4469074912 140380865563504\n"
     ]
    }
   ],
   "source": [
    "integer1 = 10\n",
    "print(id(integer), id(integer1), id(integer2))"
   ]
  },
  {
   "cell_type": "code",
   "execution_count": 169,
   "id": "9dee5820",
   "metadata": {},
   "outputs": [
    {
     "name": "stdout",
     "output_type": "stream",
     "text": [
      "Hello world, my name is Abhijeet   Bhattacharya\n"
     ]
    }
   ],
   "source": [
    "name = 'Abhijeet'\n",
    "print(\"Hello world, my name is\", name, \" \", last_name)"
   ]
  },
  {
   "cell_type": "code",
   "execution_count": 166,
   "id": "cf631c9a",
   "metadata": {},
   "outputs": [
    {
     "name": "stdout",
     "output_type": "stream",
     "text": [
      "Hello world, my name is Abhijeet\n"
     ]
    }
   ],
   "source": [
    "name = 'Abhijeet'\n",
    "print(\"Hello world, my name is \"+ name)"
   ]
  },
  {
   "cell_type": "code",
   "execution_count": 174,
   "id": "99632ef8",
   "metadata": {},
   "outputs": [
    {
     "name": "stdout",
     "output_type": "stream",
     "text": [
      "Hello world, my name is Abhijeet Bhattacharya\n"
     ]
    }
   ],
   "source": [
    "last_name = 'Bhattacharya'\n",
    "print(\"Hello world, my name is {} {}\".format(name, last_name))"
   ]
  },
  {
   "cell_type": "code",
   "execution_count": 176,
   "id": "b5b8b897",
   "metadata": {},
   "outputs": [
    {
     "name": "stdout",
     "output_type": "stream",
     "text": [
      "Hello world, my name is Abhijeet Bhattacharya\n"
     ]
    }
   ],
   "source": [
    "# F string\n",
    "print(f\"Hello world, my name is {name} {last_name}\")"
   ]
  },
  {
   "cell_type": "code",
   "execution_count": 177,
   "id": "6684b1ec",
   "metadata": {},
   "outputs": [
    {
     "name": "stdout",
     "output_type": "stream",
     "text": [
      "2\n",
      "3\n",
      "The input 1 is 2, input 2 3\n"
     ]
    }
   ],
   "source": [
    "print(f\"The input 1 is {input()}, input 2 {input()}\")"
   ]
  },
  {
   "cell_type": "code",
   "execution_count": 180,
   "id": "2df2b37a",
   "metadata": {},
   "outputs": [],
   "source": [
    "del name"
   ]
  },
  {
   "cell_type": "code",
   "execution_count": 182,
   "id": "b01a616b",
   "metadata": {},
   "outputs": [],
   "source": [
    "# name"
   ]
  },
  {
   "cell_type": "code",
   "execution_count": 187,
   "id": "0d04f32f",
   "metadata": {},
   "outputs": [
    {
     "name": "stdout",
     "output_type": "stream",
     "text": [
      "Enter string yes\n",
      "Wrong input\n"
     ]
    }
   ],
   "source": [
    "if input(\"Enter string\") == 'yes':\n",
    "    print(\"Go ahead\")\n",
    "else:\n",
    "    print(\"Wrong input\")"
   ]
  },
  {
   "cell_type": "code",
   "execution_count": 192,
   "id": "74831367",
   "metadata": {},
   "outputs": [
    {
     "name": "stdout",
     "output_type": "stream",
     "text": [
      "Enter string       yes\n",
      "       yes\n",
      "yes\n"
     ]
    }
   ],
   "source": [
    "inp = input('Enter string')\n",
    "print(inp)\n",
    "print(inp.strip())"
   ]
  },
  {
   "cell_type": "code",
   "execution_count": 195,
   "id": "078c224a",
   "metadata": {},
   "outputs": [
    {
     "name": "stdout",
     "output_type": "stream",
     "text": [
      "Enter stringyes     \n",
      "Go ahead\n"
     ]
    }
   ],
   "source": [
    "if input(\"Enter string\").strip() == 'yes':\n",
    "    print(\"Go ahead\")\n",
    "else:\n",
    "    print(\"Wrong input\")"
   ]
  },
  {
   "cell_type": "code",
   "execution_count": 196,
   "id": "4c82f6f4",
   "metadata": {},
   "outputs": [
    {
     "name": "stdout",
     "output_type": "stream",
     "text": [
      "I am sleeping\n",
      "I am sleeping\n"
     ]
    }
   ],
   "source": [
    "print(input())"
   ]
  },
  {
   "cell_type": "code",
   "execution_count": 197,
   "id": "d43019e2",
   "metadata": {},
   "outputs": [
    {
     "name": "stdout",
     "output_type": "stream",
     "text": [
      "['Abhijeet', 'Bhattacharya']\n"
     ]
    }
   ],
   "source": [
    "name = 'Abhijeet Bhattacharya'\n",
    "print(name.split())"
   ]
  },
  {
   "cell_type": "code",
   "execution_count": 202,
   "id": "a36032de",
   "metadata": {},
   "outputs": [
    {
     "name": "stdout",
     "output_type": "stream",
     "text": [
      "['the', 'man', 'is', 'sleeping', 'on', 'the', 'bench']\n"
     ]
    }
   ],
   "source": [
    "string = 'the_man_is_sleeping_on_the_bench'\n",
    "print(string.split('_'))"
   ]
  },
  {
   "cell_type": "code",
   "execution_count": 207,
   "id": "a0eb0e99",
   "metadata": {},
   "outputs": [
    {
     "name": "stdout",
     "output_type": "stream",
     "text": [
      "5\n"
     ]
    }
   ],
   "source": [
    "print(string.count('e'))"
   ]
  },
  {
   "cell_type": "code",
   "execution_count": 206,
   "id": "e595d1d8",
   "metadata": {},
   "outputs": [
    {
     "name": "stdout",
     "output_type": "stream",
     "text": [
      "A\n",
      "b\n",
      "h\n",
      "i\n",
      "j\n",
      "e\n",
      "e\n",
      "t\n"
     ]
    }
   ],
   "source": [
    "name = 'Abhijeet'\n",
    "for i in name:\n",
    "    print(i)"
   ]
  },
  {
   "cell_type": "code",
   "execution_count": 208,
   "id": "ea49aff1",
   "metadata": {},
   "outputs": [],
   "source": [
    "string.count?"
   ]
  },
  {
   "cell_type": "code",
   "execution_count": 209,
   "id": "2b7d5c36",
   "metadata": {},
   "outputs": [
    {
     "name": "stdout",
     "output_type": "stream",
     "text": [
      "thb_man_is_slbbping_on_thb_bbnch\n"
     ]
    }
   ],
   "source": [
    "print(string.replace('e', 'b'))"
   ]
  },
  {
   "cell_type": "code",
   "execution_count": 213,
   "id": "b468b176",
   "metadata": {},
   "outputs": [
    {
     "name": "stdout",
     "output_type": "stream",
     "text": [
      "Vbhijeet Bhattacharya\n"
     ]
    }
   ],
   "source": [
    "name = 'Abhijeet Bhattacharya'\n",
    "print(name.replace('A','V'))"
   ]
  },
  {
   "cell_type": "code",
   "execution_count": 214,
   "id": "e0de7de0",
   "metadata": {},
   "outputs": [
    {
     "name": "stdout",
     "output_type": "stream",
     "text": [
      "Abhijeet   0\n",
      "Authenticated\n"
     ]
    }
   ],
   "source": [
    "if(input().startswith('Abhijeet')):\n",
    "    print('Authenticated')\n",
    "else:\n",
    "    print('denied')"
   ]
  },
  {
   "cell_type": "code",
   "execution_count": 215,
   "id": "ddcb4bee",
   "metadata": {},
   "outputs": [],
   "source": [
    "def authen(inp):\n",
    "    l = inp.split()\n",
    "    if(l[0] == 'Aastha'):\n",
    "        print(\"success\")\n",
    "    else:\n",
    "        print(\"fail\")"
   ]
  },
  {
   "cell_type": "code",
   "execution_count": 216,
   "id": "959c1c1e",
   "metadata": {},
   "outputs": [
    {
     "name": "stdout",
     "output_type": "stream",
     "text": [
      "success\n"
     ]
    }
   ],
   "source": [
    "authen('Aastha   0 mm')"
   ]
  },
  {
   "cell_type": "code",
   "execution_count": 219,
   "id": "5f7d84b2",
   "metadata": {},
   "outputs": [
    {
     "name": "stdout",
     "output_type": "stream",
     "text": [
      "Please enter the passwordNaman\n",
      "User is authenticate\n"
     ]
    }
   ],
   "source": [
    "def password(name):\n",
    "    if(name.strip()=='Naman'):\n",
    "      print(\"User is authenticate\")\n",
    "    else:\n",
    "      print(\"Authentication failed\")\n",
    "name=input(\"Please enter the password\")\n",
    "password(name)"
   ]
  },
  {
   "cell_type": "code",
   "execution_count": 222,
   "id": "ce5b7776",
   "metadata": {},
   "outputs": [
    {
     "data": {
      "text/plain": [
       "'the_man_is_sleeping_on_the_bench'"
      ]
     },
     "execution_count": 222,
     "metadata": {},
     "output_type": "execute_result"
    }
   ],
   "source": [
    "string"
   ]
  },
  {
   "cell_type": "code",
   "execution_count": 229,
   "id": "0fe2314c",
   "metadata": {},
   "outputs": [
    {
     "name": "stdout",
     "output_type": "stream",
     "text": [
      "Enter Auntentication:Abhijeet 3 sac rtj\n",
      "Authticated\n"
     ]
    }
   ],
   "source": [
    "while 1:\n",
    "    inp = input('Enter Auntentication:')\n",
    "    if (inp.strip() == 'Abhijeet') or inp.split()[0] == 'Abhijeet':\n",
    "        print(\"Authticated\")\n",
    "        break\n",
    "    else:\n",
    "        print(\"no\")"
   ]
  },
  {
   "cell_type": "code",
   "execution_count": 230,
   "id": "9213d88f",
   "metadata": {},
   "outputs": [],
   "source": [
    "def func(passw):\n",
    "    string = passw.strip()\n",
    "    if string in passw:\n",
    "        print(\"Valid Password\")\n",
    "    else:\n",
    "        print(\"Invalid Password\")"
   ]
  },
  {
   "cell_type": "code",
   "execution_count": 231,
   "id": "33f33c0b",
   "metadata": {},
   "outputs": [
    {
     "name": "stdout",
     "output_type": "stream",
     "text": [
      "enter password:- Abhijeet kkjg 567\n",
      "Valid Password\n"
     ]
    }
   ],
   "source": [
    "passw = input(\"enter password:- \")\n",
    "func(passw)"
   ]
  },
  {
   "cell_type": "code",
   "execution_count": 236,
   "id": "5a232144",
   "metadata": {},
   "outputs": [
    {
     "name": "stdout",
     "output_type": "stream",
     "text": [
      "Authenticated\n"
     ]
    }
   ],
   "source": [
    "if name.lower() == 'naman':\n",
    "    print(\"Authenticated\")\n",
    "else:\n",
    "    print(\"No\")"
   ]
  },
  {
   "cell_type": "code",
   "execution_count": 240,
   "id": "13c03677",
   "metadata": {},
   "outputs": [
    {
     "name": "stdout",
     "output_type": "stream",
     "text": [
      "NAMAN\n",
      "a A\n"
     ]
    }
   ],
   "source": [
    "print(name.upper())\n",
    "print(chr(97), chr(ord('a') - 32))"
   ]
  },
  {
   "cell_type": "code",
   "execution_count": 250,
   "id": "131862a7",
   "metadata": {},
   "outputs": [],
   "source": [
    "def con_l_u(string):\n",
    "    for i in string:\n",
    "        print(chr(ord(i) - 32))"
   ]
  },
  {
   "cell_type": "code",
   "execution_count": 255,
   "id": "8e0d3f29",
   "metadata": {},
   "outputs": [
    {
     "name": "stdout",
     "output_type": "stream",
     "text": [
      "S\n",
      "A\n",
      "H\n",
      "I\n",
      "L\n"
     ]
    }
   ],
   "source": [
    "con_l_u('sahil')"
   ]
  },
  {
   "cell_type": "code",
   "execution_count": 256,
   "id": "5209de86",
   "metadata": {},
   "outputs": [],
   "source": [
    "# List"
   ]
  },
  {
   "cell_type": "code",
   "execution_count": 257,
   "id": "a3e4848c",
   "metadata": {},
   "outputs": [],
   "source": [
    "a = []"
   ]
  },
  {
   "cell_type": "code",
   "execution_count": 259,
   "id": "53590632",
   "metadata": {},
   "outputs": [
    {
     "name": "stdout",
     "output_type": "stream",
     "text": [
      "<class 'list'>\n"
     ]
    }
   ],
   "source": [
    "print(type(a))"
   ]
  },
  {
   "cell_type": "code",
   "execution_count": 271,
   "id": "3181c3cb",
   "metadata": {},
   "outputs": [],
   "source": [
    "a = ['Abhijeet', 'Bhattacharya', 'Male', '23']"
   ]
  },
  {
   "cell_type": "code",
   "execution_count": 272,
   "id": "78d5cb4c",
   "metadata": {},
   "outputs": [
    {
     "data": {
      "text/plain": [
       "['Abhijeet', 'Bhattacharya', 'Male', '23']"
      ]
     },
     "execution_count": 272,
     "metadata": {},
     "output_type": "execute_result"
    }
   ],
   "source": [
    "a"
   ]
  },
  {
   "cell_type": "code",
   "execution_count": 287,
   "id": "4db81a2e",
   "metadata": {},
   "outputs": [],
   "source": [
    "a = ['Abhijeet', 'Bhattacharya', 23, 3465.9, True, range(8), [1, 2, 3]]"
   ]
  },
  {
   "cell_type": "code",
   "execution_count": 288,
   "id": "2cb0eadc",
   "metadata": {},
   "outputs": [
    {
     "data": {
      "text/plain": [
       "['Abhijeet', 'Bhattacharya', 23, 3465.9, True, range(0, 8), [1, 2, 3]]"
      ]
     },
     "execution_count": 288,
     "metadata": {},
     "output_type": "execute_result"
    }
   ],
   "source": [
    "a"
   ]
  },
  {
   "cell_type": "code",
   "execution_count": 289,
   "id": "db37acc7",
   "metadata": {},
   "outputs": [
    {
     "data": {
      "text/plain": [
       "list"
      ]
     },
     "execution_count": 289,
     "metadata": {},
     "output_type": "execute_result"
    }
   ],
   "source": [
    "type(a)"
   ]
  },
  {
   "cell_type": "code",
   "execution_count": 290,
   "id": "48a36513",
   "metadata": {},
   "outputs": [
    {
     "data": {
      "text/plain": [
       "range"
      ]
     },
     "execution_count": 290,
     "metadata": {},
     "output_type": "execute_result"
    }
   ],
   "source": [
    "(type(a[5]))"
   ]
  },
  {
   "cell_type": "code",
   "execution_count": 291,
   "id": "dd693ad1",
   "metadata": {},
   "outputs": [
    {
     "name": "stdout",
     "output_type": "stream",
     "text": [
      "b\n"
     ]
    }
   ],
   "source": [
    "b = a[0]\n",
    "print(b[1])"
   ]
  },
  {
   "cell_type": "code",
   "execution_count": 296,
   "id": "755f60fd",
   "metadata": {},
   "outputs": [
    {
     "name": "stdout",
     "output_type": "stream",
     "text": [
      "Abhijeet\n",
      "Bhattacharya\n",
      "23\n",
      "3465.9\n",
      "True\n",
      "range(0, 8)\n",
      "[1, 2, 3]\n"
     ]
    }
   ],
   "source": [
    "for i in a:\n",
    "    print(i)"
   ]
  },
  {
   "cell_type": "code",
   "execution_count": 301,
   "id": "8e37b4d6",
   "metadata": {},
   "outputs": [
    {
     "data": {
      "text/plain": [
       "'h'"
      ]
     },
     "execution_count": 301,
     "metadata": {},
     "output_type": "execute_result"
    }
   ],
   "source": [
    "a[1][1]"
   ]
  },
  {
   "cell_type": "code",
   "execution_count": 306,
   "id": "30f9c02d",
   "metadata": {},
   "outputs": [
    {
     "data": {
      "text/plain": [
       "'sleeping'"
      ]
     },
     "execution_count": 306,
     "metadata": {},
     "output_type": "execute_result"
    }
   ],
   "source": [
    "string.split('_')[3]"
   ]
  },
  {
   "cell_type": "code",
   "execution_count": 307,
   "id": "63739334",
   "metadata": {},
   "outputs": [
    {
     "data": {
      "text/plain": [
       "['Abhijeet', 'Bhattacharya', 23, 3465.9, True, range(0, 8), [1, 2, 3]]"
      ]
     },
     "execution_count": 307,
     "metadata": {},
     "output_type": "execute_result"
    }
   ],
   "source": [
    "a"
   ]
  },
  {
   "cell_type": "code",
   "execution_count": 308,
   "id": "49198a09",
   "metadata": {},
   "outputs": [
    {
     "name": "stdout",
     "output_type": "stream",
     "text": [
      "['Abhijeet', 'Bhattacharya', 23, 3465.9, True, range(0, 8), [1, 2, 3], 'hi']\n"
     ]
    }
   ],
   "source": [
    "a.append('hi')\n",
    "print(a)"
   ]
  },
  {
   "cell_type": "code",
   "execution_count": 311,
   "id": "783c78aa",
   "metadata": {},
   "outputs": [
    {
     "name": "stdout",
     "output_type": "stream",
     "text": [
      "['HI', 'Abhijeet', 'Bhattacharya', 23, 3465.9, True, range(0, 8), [1, 2, 3], 'hi']\n"
     ]
    }
   ],
   "source": [
    "a.insert(0, 'HI')\n",
    "print(a)"
   ]
  },
  {
   "cell_type": "code",
   "execution_count": 312,
   "id": "866820b5",
   "metadata": {},
   "outputs": [],
   "source": [
    "a.append?"
   ]
  },
  {
   "cell_type": "code",
   "execution_count": 346,
   "id": "1eeac8c0",
   "metadata": {},
   "outputs": [],
   "source": [
    "def splitter(string):\n",
    "    temp_str = ''\n",
    "    string_split = []\n",
    "    for i in string:\n",
    "        if i == ' ':\n",
    "            string_split.append(temp_str)\n",
    "            temp_str = ''\n",
    "#             continue\n",
    "        else:\n",
    "            temp_str+=i\n",
    "    string_split.append(temp_str)\n",
    "    print(string_split)"
   ]
  },
  {
   "cell_type": "code",
   "execution_count": 347,
   "id": "632f2f5c",
   "metadata": {},
   "outputs": [
    {
     "name": "stdout",
     "output_type": "stream",
     "text": [
      "['The', 'man', 'is', 'sleeping']\n"
     ]
    }
   ],
   "source": [
    "splitter('The man is sleeping')"
   ]
  },
  {
   "cell_type": "code",
   "execution_count": 330,
   "id": "2b986f0e",
   "metadata": {},
   "outputs": [
    {
     "name": "stdout",
     "output_type": "stream",
     "text": [
      "['the', 'main', 'is', 'sleeping']\n"
     ]
    }
   ],
   "source": [
    "x = \"the main is sleeping\"\n",
    "temp_str = ''\n",
    "res = []\n",
    "for i in x:\n",
    "    if(i == ' '):\n",
    "        res.append(temp_str)\n",
    "        temp_str=''\n",
    "        continue\n",
    "    else:\n",
    "        temp_str+=i\n",
    "\n",
    "res.append(temp_str)\n",
    "print(res)"
   ]
  },
  {
   "cell_type": "code",
   "execution_count": 349,
   "id": "1b2b998b",
   "metadata": {},
   "outputs": [
    {
     "data": {
      "text/plain": [
       "'hi'"
      ]
     },
     "execution_count": 349,
     "metadata": {},
     "output_type": "execute_result"
    }
   ],
   "source": [
    "a.pop()"
   ]
  },
  {
   "cell_type": "code",
   "execution_count": 350,
   "id": "fcc424f9",
   "metadata": {},
   "outputs": [
    {
     "data": {
      "text/plain": [
       "['HI', 'Abhijeet', 'Bhattacharya', 23, 3465.9, True, range(0, 8), [1, 2, 3]]"
      ]
     },
     "execution_count": 350,
     "metadata": {},
     "output_type": "execute_result"
    }
   ],
   "source": [
    "a"
   ]
  },
  {
   "cell_type": "code",
   "execution_count": 361,
   "id": "a5c7a090",
   "metadata": {},
   "outputs": [],
   "source": [
    "a.pop?"
   ]
  },
  {
   "cell_type": "code",
   "execution_count": 357,
   "id": "7ce7e012",
   "metadata": {},
   "outputs": [
    {
     "data": {
      "text/plain": [
       "True"
      ]
     },
     "execution_count": 357,
     "metadata": {},
     "output_type": "execute_result"
    }
   ],
   "source": [
    "a[-3]"
   ]
  },
  {
   "cell_type": "code",
   "execution_count": 359,
   "id": "f2383f62",
   "metadata": {},
   "outputs": [
    {
     "data": {
      "text/plain": [
       "'Bhattacharya'"
      ]
     },
     "execution_count": 359,
     "metadata": {},
     "output_type": "execute_result"
    }
   ],
   "source": [
    "a.pop(2)"
   ]
  },
  {
   "cell_type": "code",
   "execution_count": 360,
   "id": "cf7b615c",
   "metadata": {},
   "outputs": [
    {
     "data": {
      "text/plain": [
       "['HI', 'Abhijeet', 23, 3465.9, True, range(0, 8), [1, 2, 3]]"
      ]
     },
     "execution_count": 360,
     "metadata": {},
     "output_type": "execute_result"
    }
   ],
   "source": [
    "a"
   ]
  },
  {
   "cell_type": "code",
   "execution_count": 362,
   "id": "8957cfb4",
   "metadata": {},
   "outputs": [
    {
     "data": {
      "text/plain": [
       "range(0, 8)"
      ]
     },
     "execution_count": 362,
     "metadata": {},
     "output_type": "execute_result"
    }
   ],
   "source": [
    "a.pop(-2)"
   ]
  },
  {
   "cell_type": "code",
   "execution_count": 363,
   "id": "0236dd12",
   "metadata": {},
   "outputs": [
    {
     "data": {
      "text/plain": [
       "['HI', 'Abhijeet', 23, 3465.9, True, [1, 2, 3]]"
      ]
     },
     "execution_count": 363,
     "metadata": {},
     "output_type": "execute_result"
    }
   ],
   "source": [
    "a"
   ]
  },
  {
   "cell_type": "code",
   "execution_count": 365,
   "id": "c1a71010",
   "metadata": {},
   "outputs": [],
   "source": [
    "a.remove('Abhijeet')"
   ]
  },
  {
   "cell_type": "code",
   "execution_count": 366,
   "id": "1a1dda6d",
   "metadata": {},
   "outputs": [
    {
     "data": {
      "text/plain": [
       "['HI', 23, 3465.9, True, [1, 2, 3]]"
      ]
     },
     "execution_count": 366,
     "metadata": {},
     "output_type": "execute_result"
    }
   ],
   "source": [
    "a"
   ]
  },
  {
   "cell_type": "code",
   "execution_count": 367,
   "id": "3ffb8672",
   "metadata": {},
   "outputs": [],
   "source": [
    "last = a.pop()"
   ]
  },
  {
   "cell_type": "code",
   "execution_count": 370,
   "id": "83a79fd1",
   "metadata": {},
   "outputs": [
    {
     "data": {
      "text/plain": [
       "3"
      ]
     },
     "execution_count": 370,
     "metadata": {},
     "output_type": "execute_result"
    }
   ],
   "source": [
    "last[2]"
   ]
  },
  {
   "cell_type": "code",
   "execution_count": 377,
   "id": "108ba88b",
   "metadata": {},
   "outputs": [],
   "source": [
    "arr = [1,2,3,5,23,3465,124,768,1,0,33,44,10,5]"
   ]
  },
  {
   "cell_type": "code",
   "execution_count": 379,
   "id": "89292bbc",
   "metadata": {},
   "outputs": [],
   "source": [
    "arr.reverse()"
   ]
  },
  {
   "cell_type": "code",
   "execution_count": 380,
   "id": "f68d4a9f",
   "metadata": {},
   "outputs": [
    {
     "data": {
      "text/plain": [
       "[5, 10, 44, 33, 0, 1, 768, 124, 3465, 23, 5, 3, 2, 1]"
      ]
     },
     "execution_count": 380,
     "metadata": {},
     "output_type": "execute_result"
    }
   ],
   "source": [
    "arr"
   ]
  },
  {
   "cell_type": "code",
   "execution_count": 382,
   "id": "243f18da",
   "metadata": {},
   "outputs": [
    {
     "data": {
      "text/plain": [
       "14"
      ]
     },
     "execution_count": 382,
     "metadata": {},
     "output_type": "execute_result"
    }
   ],
   "source": [
    "len(arr)"
   ]
  },
  {
   "cell_type": "code",
   "execution_count": 383,
   "id": "b707af27",
   "metadata": {},
   "outputs": [],
   "source": [
    "def rev(arr):\n",
    "    temp_arr = []\n",
    "    for i in range(len(arr)):\n",
    "        temp_arr.append(arr[i - len(arr)])\n",
    "    print(temp_arr)"
   ]
  },
  {
   "cell_type": "code",
   "execution_count": 384,
   "id": "d73d1c20",
   "metadata": {},
   "outputs": [
    {
     "name": "stdout",
     "output_type": "stream",
     "text": [
      "[5, 10, 44, 33, 0, 1, 768, 124, 3465, 23, 5, 3, 2, 1]\n"
     ]
    }
   ],
   "source": [
    "rev(arr)"
   ]
  },
  {
   "cell_type": "code",
   "execution_count": 410,
   "id": "013c18c7",
   "metadata": {},
   "outputs": [
    {
     "data": {
      "text/plain": [
       "[0, 1, 1, 2, 3, 5, 5, 10, 23, 33, 44, 124, 768, 3465]"
      ]
     },
     "execution_count": 410,
     "metadata": {},
     "output_type": "execute_result"
    }
   ],
   "source": [
    "sorted(arr, reverse = False)"
   ]
  },
  {
   "cell_type": "code",
   "execution_count": 406,
   "id": "0671e991",
   "metadata": {},
   "outputs": [
    {
     "name": "stdout",
     "output_type": "stream",
     "text": [
      "['HI', 23, 3465.9, True]\n"
     ]
    }
   ],
   "source": [
    "a.reverse()\n",
    "print(a)\n",
    "# print(sorted(a))"
   ]
  },
  {
   "cell_type": "code",
   "execution_count": 407,
   "id": "7f4caec3",
   "metadata": {},
   "outputs": [
    {
     "data": {
      "text/plain": [
       "['HI', 23, 3465.9, True]"
      ]
     },
     "execution_count": 407,
     "metadata": {},
     "output_type": "execute_result"
    }
   ],
   "source": [
    "a"
   ]
  },
  {
   "cell_type": "code",
   "execution_count": 408,
   "id": "22434968",
   "metadata": {},
   "outputs": [],
   "source": [
    "a.reverse()"
   ]
  },
  {
   "cell_type": "code",
   "execution_count": 409,
   "id": "e3ca9866",
   "metadata": {},
   "outputs": [
    {
     "data": {
      "text/plain": [
       "[True, 3465.9, 23, 'HI']"
      ]
     },
     "execution_count": 409,
     "metadata": {},
     "output_type": "execute_result"
    }
   ],
   "source": [
    "a"
   ]
  },
  {
   "cell_type": "code",
   "execution_count": null,
   "id": "c05999bb",
   "metadata": {},
   "outputs": [],
   "source": []
  },
  {
   "cell_type": "code",
   "execution_count": null,
   "id": "c533c34c",
   "metadata": {},
   "outputs": [],
   "source": []
  }
 ],
 "metadata": {
  "kernelspec": {
   "display_name": "Python 3 (ipykernel)",
   "language": "python",
   "name": "python3"
  },
  "language_info": {
   "codemirror_mode": {
    "name": "ipython",
    "version": 3
   },
   "file_extension": ".py",
   "mimetype": "text/x-python",
   "name": "python",
   "nbconvert_exporter": "python",
   "pygments_lexer": "ipython3",
   "version": "3.8.10"
  }
 },
 "nbformat": 4,
 "nbformat_minor": 5
}
