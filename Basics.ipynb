{
 "cells": [
  {
   "cell_type": "code",
   "execution_count": 1,
   "id": "9cfa4d9d",
   "metadata": {},
   "outputs": [],
   "source": [
    "a = 1"
   ]
  },
  {
   "cell_type": "code",
   "execution_count": 2,
   "id": "117b780f",
   "metadata": {},
   "outputs": [
    {
     "data": {
      "text/plain": [
       "1"
      ]
     },
     "execution_count": 2,
     "metadata": {},
     "output_type": "execute_result"
    }
   ],
   "source": [
    "a"
   ]
  },
  {
   "cell_type": "code",
   "execution_count": 3,
   "id": "1e4698e9",
   "metadata": {},
   "outputs": [],
   "source": [
    "b = 4"
   ]
  },
  {
   "cell_type": "code",
   "execution_count": 4,
   "id": "d6653411",
   "metadata": {},
   "outputs": [
    {
     "data": {
      "text/plain": [
       "4"
      ]
     },
     "execution_count": 4,
     "metadata": {},
     "output_type": "execute_result"
    }
   ],
   "source": [
    "b"
   ]
  },
  {
   "cell_type": "code",
   "execution_count": 5,
   "id": "9a83598a",
   "metadata": {},
   "outputs": [
    {
     "name": "stdout",
     "output_type": "stream",
     "text": [
      "4\n"
     ]
    }
   ],
   "source": [
    "print(b)"
   ]
  },
  {
   "cell_type": "code",
   "execution_count": 6,
   "id": "3257b1f8",
   "metadata": {},
   "outputs": [],
   "source": [
    "b = 4.0"
   ]
  },
  {
   "cell_type": "code",
   "execution_count": 7,
   "id": "a1842b26",
   "metadata": {},
   "outputs": [
    {
     "name": "stdout",
     "output_type": "stream",
     "text": [
      "4.0\n"
     ]
    }
   ],
   "source": [
    "print(b)"
   ]
  },
  {
   "cell_type": "code",
   "execution_count": 8,
   "id": "d9cdda61",
   "metadata": {},
   "outputs": [],
   "source": [
    "a = 4"
   ]
  },
  {
   "cell_type": "code",
   "execution_count": 9,
   "id": "2a078941",
   "metadata": {},
   "outputs": [
    {
     "name": "stdout",
     "output_type": "stream",
     "text": [
      "4\n"
     ]
    }
   ],
   "source": [
    "print(a)"
   ]
  },
  {
   "cell_type": "code",
   "execution_count": 10,
   "id": "9ceba534",
   "metadata": {},
   "outputs": [
    {
     "name": "stdout",
     "output_type": "stream",
     "text": [
      "<class 'int'>\n"
     ]
    }
   ],
   "source": [
    "print(type(a))"
   ]
  },
  {
   "cell_type": "code",
   "execution_count": 11,
   "id": "fc9740c1",
   "metadata": {},
   "outputs": [
    {
     "name": "stdout",
     "output_type": "stream",
     "text": [
      "<class 'float'>\n"
     ]
    }
   ],
   "source": [
    "print(type(b))"
   ]
  },
  {
   "cell_type": "code",
   "execution_count": 12,
   "id": "bb08bfcb",
   "metadata": {},
   "outputs": [
    {
     "name": "stdout",
     "output_type": "stream",
     "text": [
      "<class 'int'>\n"
     ]
    }
   ],
   "source": [
    "print(type(-2))"
   ]
  },
  {
   "cell_type": "code",
   "execution_count": 13,
   "id": "00f12c13",
   "metadata": {},
   "outputs": [
    {
     "name": "stdout",
     "output_type": "stream",
     "text": [
      "<class 'float'>\n"
     ]
    }
   ],
   "source": [
    "print(type(-3.5))"
   ]
  },
  {
   "cell_type": "code",
   "execution_count": 14,
   "id": "30a17c0e",
   "metadata": {},
   "outputs": [],
   "source": [
    "c = '3'"
   ]
  },
  {
   "cell_type": "code",
   "execution_count": 15,
   "id": "be476961",
   "metadata": {},
   "outputs": [
    {
     "name": "stdout",
     "output_type": "stream",
     "text": [
      "<class 'str'>\n"
     ]
    }
   ],
   "source": [
    "print(type(c))"
   ]
  },
  {
   "cell_type": "code",
   "execution_count": 16,
   "id": "b22e3a6c",
   "metadata": {},
   "outputs": [],
   "source": [
    "c = 'Hello World!'"
   ]
  },
  {
   "cell_type": "code",
   "execution_count": 17,
   "id": "358992ac",
   "metadata": {},
   "outputs": [
    {
     "data": {
      "text/plain": [
       "'Hello World!'"
      ]
     },
     "execution_count": 17,
     "metadata": {},
     "output_type": "execute_result"
    }
   ],
   "source": [
    "c"
   ]
  },
  {
   "cell_type": "code",
   "execution_count": 18,
   "id": "6517a269",
   "metadata": {},
   "outputs": [
    {
     "data": {
      "text/plain": [
       "str"
      ]
     },
     "execution_count": 18,
     "metadata": {},
     "output_type": "execute_result"
    }
   ],
   "source": [
    "type(c)"
   ]
  },
  {
   "cell_type": "code",
   "execution_count": 19,
   "id": "510dbc00",
   "metadata": {},
   "outputs": [],
   "source": [
    "d = True"
   ]
  },
  {
   "cell_type": "code",
   "execution_count": 20,
   "id": "fb860ce8",
   "metadata": {},
   "outputs": [
    {
     "data": {
      "text/plain": [
       "bool"
      ]
     },
     "execution_count": 20,
     "metadata": {},
     "output_type": "execute_result"
    }
   ],
   "source": [
    "type(d)"
   ]
  },
  {
   "cell_type": "code",
   "execution_count": 21,
   "id": "9191f679",
   "metadata": {},
   "outputs": [],
   "source": [
    "d = False"
   ]
  },
  {
   "cell_type": "code",
   "execution_count": 22,
   "id": "0474b6c2",
   "metadata": {},
   "outputs": [
    {
     "data": {
      "text/plain": [
       "bool"
      ]
     },
     "execution_count": 22,
     "metadata": {},
     "output_type": "execute_result"
    }
   ],
   "source": [
    "type(d)"
   ]
  },
  {
   "cell_type": "code",
   "execution_count": 23,
   "id": "8b879e73",
   "metadata": {},
   "outputs": [
    {
     "name": "stdout",
     "output_type": "stream",
     "text": [
      "False\n"
     ]
    }
   ],
   "source": [
    "print(d)"
   ]
  },
  {
   "cell_type": "code",
   "execution_count": 24,
   "id": "8305e3ac",
   "metadata": {},
   "outputs": [
    {
     "name": "stdout",
     "output_type": "stream",
     "text": [
      "e\n"
     ]
    }
   ],
   "source": [
    "print('e')"
   ]
  },
  {
   "cell_type": "code",
   "execution_count": 25,
   "id": "594924da",
   "metadata": {},
   "outputs": [
    {
     "name": "stdout",
     "output_type": "stream",
     "text": [
      "Hello world, My name is Abhijeet!\n"
     ]
    }
   ],
   "source": [
    "print('Hello world, My name is Abhijeet!')"
   ]
  },
  {
   "cell_type": "code",
   "execution_count": 26,
   "id": "967a8096",
   "metadata": {},
   "outputs": [],
   "source": [
    "# print()"
   ]
  },
  {
   "cell_type": "code",
   "execution_count": 27,
   "id": "f19237ea",
   "metadata": {},
   "outputs": [],
   "source": [
    "def summer(a, b):\n",
    "    print(a + b)\n",
    "    print(a)\n",
    "    print(b)"
   ]
  },
  {
   "cell_type": "code",
   "execution_count": 28,
   "id": "dc36b5f5",
   "metadata": {},
   "outputs": [
    {
     "name": "stdout",
     "output_type": "stream",
     "text": [
      "30\n",
      "10\n",
      "20\n"
     ]
    }
   ],
   "source": [
    "summer(10, 20)"
   ]
  },
  {
   "cell_type": "code",
   "execution_count": 29,
   "id": "3baebb55",
   "metadata": {},
   "outputs": [
    {
     "name": "stdout",
     "output_type": "stream",
     "text": [
      "<function summer at 0x7ff5290cd160>\n"
     ]
    }
   ],
   "source": [
    "print(summer)"
   ]
  },
  {
   "cell_type": "code",
   "execution_count": 30,
   "id": "dc538d3e",
   "metadata": {},
   "outputs": [
    {
     "data": {
      "text/plain": [
       "<function __main__.summer(a, b)>"
      ]
     },
     "execution_count": 30,
     "metadata": {},
     "output_type": "execute_result"
    }
   ],
   "source": [
    "summer"
   ]
  },
  {
   "cell_type": "code",
   "execution_count": 31,
   "id": "d105cb96",
   "metadata": {},
   "outputs": [
    {
     "data": {
      "text/plain": [
       "4"
      ]
     },
     "execution_count": 31,
     "metadata": {},
     "output_type": "execute_result"
    }
   ],
   "source": [
    "a"
   ]
  },
  {
   "cell_type": "code",
   "execution_count": 32,
   "id": "53cc6cfd",
   "metadata": {},
   "outputs": [
    {
     "name": "stdout",
     "output_type": "stream",
     "text": [
      "4\n"
     ]
    }
   ],
   "source": [
    "print(a)"
   ]
  },
  {
   "cell_type": "code",
   "execution_count": 33,
   "id": "e5ab8929",
   "metadata": {},
   "outputs": [
    {
     "name": "stdout",
     "output_type": "stream",
     "text": [
      "3\n"
     ]
    }
   ],
   "source": [
    "print(\"3\")"
   ]
  },
  {
   "cell_type": "code",
   "execution_count": 34,
   "id": "665dd389",
   "metadata": {},
   "outputs": [
    {
     "data": {
      "text/plain": [
       "<function print>"
      ]
     },
     "execution_count": 34,
     "metadata": {},
     "output_type": "execute_result"
    }
   ],
   "source": [
    "print"
   ]
  },
  {
   "cell_type": "code",
   "execution_count": 35,
   "id": "aa096963",
   "metadata": {},
   "outputs": [
    {
     "name": "stdout",
     "output_type": "stream",
     "text": [
      "30\n",
      "20\n",
      "10\n"
     ]
    }
   ],
   "source": [
    "a = 20\n",
    "b = 10\n",
    "summer(a, b)"
   ]
  },
  {
   "cell_type": "code",
   "execution_count": 36,
   "id": "a7a29511",
   "metadata": {},
   "outputs": [
    {
     "name": "stdout",
     "output_type": "stream",
     "text": [
      "120\n",
      "20\n",
      "100\n"
     ]
    }
   ],
   "source": [
    "first = 20\n",
    "second = 100\n",
    "summer(first, second)"
   ]
  },
  {
   "cell_type": "code",
   "execution_count": 37,
   "id": "447175e5",
   "metadata": {},
   "outputs": [
    {
     "data": {
      "text/plain": [
       "20"
      ]
     },
     "execution_count": 37,
     "metadata": {},
     "output_type": "execute_result"
    }
   ],
   "source": [
    "a"
   ]
  },
  {
   "cell_type": "code",
   "execution_count": 38,
   "id": "67d5241d",
   "metadata": {},
   "outputs": [
    {
     "data": {
      "text/plain": [
       "4380228896"
      ]
     },
     "execution_count": 38,
     "metadata": {},
     "output_type": "execute_result"
    }
   ],
   "source": [
    "id(a)"
   ]
  },
  {
   "cell_type": "code",
   "execution_count": 39,
   "id": "2b337ad1",
   "metadata": {},
   "outputs": [
    {
     "data": {
      "text/plain": [
       "140690932420960"
      ]
     },
     "execution_count": 39,
     "metadata": {},
     "output_type": "execute_result"
    }
   ],
   "source": [
    "id(summer)"
   ]
  },
  {
   "cell_type": "code",
   "execution_count": 40,
   "id": "b150355c",
   "metadata": {},
   "outputs": [
    {
     "data": {
      "text/plain": [
       "140690932098736"
      ]
     },
     "execution_count": 40,
     "metadata": {},
     "output_type": "execute_result"
    }
   ],
   "source": [
    "id(c)"
   ]
  },
  {
   "cell_type": "code",
   "execution_count": 41,
   "id": "1a7d2884",
   "metadata": {},
   "outputs": [],
   "source": [
    "c = \"hello\""
   ]
  },
  {
   "cell_type": "code",
   "execution_count": 42,
   "id": "5ac61812",
   "metadata": {},
   "outputs": [
    {
     "data": {
      "text/plain": [
       "140690927033712"
      ]
     },
     "execution_count": 42,
     "metadata": {},
     "output_type": "execute_result"
    }
   ],
   "source": [
    "id(c)"
   ]
  },
  {
   "cell_type": "code",
   "execution_count": 43,
   "id": "7280116e",
   "metadata": {},
   "outputs": [
    {
     "name": "stdout",
     "output_type": "stream",
     "text": [
      "Hello world 200\n"
     ]
    }
   ],
   "source": [
    "print(\"Hello\", \"world\", 200)"
   ]
  },
  {
   "cell_type": "code",
   "execution_count": 44,
   "id": "b3a47c3a",
   "metadata": {},
   "outputs": [],
   "source": [
    "def memory(a):\n",
    "    print(\"The value of the argument is:\", a)\n",
    "    print(\"Type of argument\", type(a))\n",
    "    print(\"The memory address of the argument is:\", id(a))"
   ]
  },
  {
   "cell_type": "code",
   "execution_count": 45,
   "id": "e4b4c640",
   "metadata": {},
   "outputs": [
    {
     "name": "stdout",
     "output_type": "stream",
     "text": [
      "The value of the argument is: 20\n",
      "Type of argument <class 'int'>\n",
      "The memory address of the argument is: 4380228896\n"
     ]
    }
   ],
   "source": [
    "memory(a)"
   ]
  },
  {
   "cell_type": "code",
   "execution_count": 46,
   "id": "ab44910e",
   "metadata": {},
   "outputs": [],
   "source": [
    "c = '.'"
   ]
  },
  {
   "cell_type": "code",
   "execution_count": 47,
   "id": "c2088ca2",
   "metadata": {},
   "outputs": [
    {
     "data": {
      "text/plain": [
       "46"
      ]
     },
     "execution_count": 47,
     "metadata": {},
     "output_type": "execute_result"
    }
   ],
   "source": [
    "ord(c)"
   ]
  },
  {
   "cell_type": "code",
   "execution_count": 48,
   "id": "0e010aee",
   "metadata": {},
   "outputs": [
    {
     "name": "stdout",
     "output_type": "stream",
     "text": [
      "The value of the argument is: <built-in function ord>\n",
      "Type of argument <class 'builtin_function_or_method'>\n",
      "The memory address of the argument is: 140690882730720\n"
     ]
    }
   ],
   "source": [
    "memory(ord)"
   ]
  },
  {
   "cell_type": "code",
   "execution_count": 49,
   "id": "497d9d08",
   "metadata": {},
   "outputs": [
    {
     "name": "stdout",
     "output_type": "stream",
     "text": [
      "<class 'builtin_function_or_method'>\n"
     ]
    }
   ],
   "source": [
    "print(type(print))"
   ]
  },
  {
   "cell_type": "code",
   "execution_count": 50,
   "id": "7e01124f",
   "metadata": {},
   "outputs": [
    {
     "data": {
      "text/plain": [
       "20"
      ]
     },
     "execution_count": 50,
     "metadata": {},
     "output_type": "execute_result"
    }
   ],
   "source": [
    "a"
   ]
  },
  {
   "cell_type": "code",
   "execution_count": 51,
   "id": "10ac958c",
   "metadata": {},
   "outputs": [],
   "source": [
    "aa = print"
   ]
  },
  {
   "cell_type": "code",
   "execution_count": 52,
   "id": "6fcd009a",
   "metadata": {},
   "outputs": [
    {
     "name": "stdout",
     "output_type": "stream",
     "text": [
      "Hello World!\n"
     ]
    }
   ],
   "source": [
    "aa(\"Hello World!\")"
   ]
  },
  {
   "cell_type": "code",
   "execution_count": 53,
   "id": "9528df22",
   "metadata": {},
   "outputs": [],
   "source": [
    "def printer():\n",
    "    print(\"This function is running\")"
   ]
  },
  {
   "cell_type": "code",
   "execution_count": 54,
   "id": "d82f7587",
   "metadata": {},
   "outputs": [
    {
     "data": {
      "text/plain": [
       "<function __main__.printer()>"
      ]
     },
     "execution_count": 54,
     "metadata": {},
     "output_type": "execute_result"
    }
   ],
   "source": [
    "printer"
   ]
  },
  {
   "cell_type": "code",
   "execution_count": 55,
   "id": "199fcfa1",
   "metadata": {},
   "outputs": [
    {
     "name": "stdout",
     "output_type": "stream",
     "text": [
      "30\n",
      "10\n",
      "20\n",
      "None\n"
     ]
    }
   ],
   "source": [
    "print(summer(10, 20))"
   ]
  },
  {
   "cell_type": "code",
   "execution_count": 56,
   "id": "fc93e48d",
   "metadata": {},
   "outputs": [
    {
     "name": "stdout",
     "output_type": "stream",
     "text": [
      "30\n",
      "10\n",
      "20\n"
     ]
    }
   ],
   "source": [
    "summer(10, 20)"
   ]
  },
  {
   "cell_type": "code",
   "execution_count": 57,
   "id": "1f9ff70f",
   "metadata": {},
   "outputs": [],
   "source": [
    "def summer(a, b):\n",
    "    print(a + b)\n",
    "    print(a)\n",
    "    print(b)\n",
    "    return (a + b), (a - b)    # Returns the value of (a+b) so that it can be used in future"
   ]
  },
  {
   "cell_type": "code",
   "execution_count": 58,
   "id": "2b0e857f",
   "metadata": {},
   "outputs": [
    {
     "name": "stdout",
     "output_type": "stream",
     "text": [
      "30\n",
      "10\n",
      "20\n"
     ]
    }
   ],
   "source": [
    "s, p = summer(10, 20)\n",
    "s = s + 5\n",
    "p = p - 5"
   ]
  },
  {
   "cell_type": "code",
   "execution_count": 59,
   "id": "0bf951ea",
   "metadata": {},
   "outputs": [
    {
     "name": "stdout",
     "output_type": "stream",
     "text": [
      "35 -15\n"
     ]
    }
   ],
   "source": [
    "print(s, p)"
   ]
  },
  {
   "cell_type": "code",
   "execution_count": 60,
   "id": "2a8cd4bf",
   "metadata": {},
   "outputs": [
    {
     "name": "stdout",
     "output_type": "stream",
     "text": [
      "30\n",
      "10\n",
      "20\n",
      "(30, -10)\n"
     ]
    }
   ],
   "source": [
    "print(summer(10, 20))"
   ]
  },
  {
   "cell_type": "code",
   "execution_count": 61,
   "id": "a3d19b94",
   "metadata": {},
   "outputs": [],
   "source": [
    "def name_printer(name):\n",
    "    print(\"Hello\", name)\n",
    "    name = \"Hello \" + name\n",
    "    return name"
   ]
  },
  {
   "cell_type": "code",
   "execution_count": 62,
   "id": "2a0a2dd6",
   "metadata": {},
   "outputs": [
    {
     "name": "stdout",
     "output_type": "stream",
     "text": [
      "Hello Abhijeet\n"
     ]
    }
   ],
   "source": [
    "name = name_printer('Abhijeet')"
   ]
  },
  {
   "cell_type": "code",
   "execution_count": 63,
   "id": "7ecbcf56",
   "metadata": {},
   "outputs": [
    {
     "name": "stdout",
     "output_type": "stream",
     "text": [
      "Hello Abhijeet\n"
     ]
    }
   ],
   "source": [
    "print(name)"
   ]
  },
  {
   "cell_type": "code",
   "execution_count": 64,
   "id": "0207f5dd",
   "metadata": {},
   "outputs": [
    {
     "name": "stdout",
     "output_type": "stream",
     "text": [
      "Hello world\n"
     ]
    }
   ],
   "source": [
    "a = \"Hello \" + 'world'\n",
    "print(a)"
   ]
  },
  {
   "cell_type": "code",
   "execution_count": 65,
   "id": "39d8ddef",
   "metadata": {},
   "outputs": [],
   "source": [
    "def calc(a, b):\n",
    "#     add = a+b\n",
    "#     sub = a-b\n",
    "#     mul = a*b\n",
    "#     div = a/b\n",
    "    return (a + b), (a - b), (a * b), (a / b)"
   ]
  },
  {
   "cell_type": "code",
   "execution_count": 66,
   "id": "86d63ceb",
   "metadata": {},
   "outputs": [
    {
     "name": "stdout",
     "output_type": "stream",
     "text": [
      "(3, -1, 2, 0.5)\n"
     ]
    }
   ],
   "source": [
    "print(calc(1, 2))"
   ]
  },
  {
   "cell_type": "code",
   "execution_count": 67,
   "id": "3ec7ce24",
   "metadata": {},
   "outputs": [],
   "source": [
    "add, sub, mul, div = calc(10, 20)"
   ]
  },
  {
   "cell_type": "code",
   "execution_count": 68,
   "id": "5bef37a6",
   "metadata": {},
   "outputs": [
    {
     "name": "stdout",
     "output_type": "stream",
     "text": [
      "0.5\n"
     ]
    }
   ],
   "source": [
    "print(div)"
   ]
  },
  {
   "cell_type": "code",
   "execution_count": 69,
   "id": "b79db1f6",
   "metadata": {},
   "outputs": [],
   "source": [
    "add, _, mul, _ = calc(10, 20)"
   ]
  },
  {
   "cell_type": "code",
   "execution_count": 70,
   "id": "c6009e8b",
   "metadata": {},
   "outputs": [
    {
     "data": {
      "text/plain": [
       "0.5"
      ]
     },
     "execution_count": 70,
     "metadata": {},
     "output_type": "execute_result"
    }
   ],
   "source": [
    "_"
   ]
  },
  {
   "cell_type": "code",
   "execution_count": 71,
   "id": "2729dbaa",
   "metadata": {},
   "outputs": [],
   "source": [
    "def first(name):\n",
    "    return name\n",
    "def second(name):\n",
    "    return name"
   ]
  },
  {
   "cell_type": "code",
   "execution_count": 72,
   "id": "a3b56de7",
   "metadata": {},
   "outputs": [],
   "source": [
    "# fname = first('Abhijeet')\n",
    "# lname = second('Bhattacharya')"
   ]
  },
  {
   "cell_type": "code",
   "execution_count": 73,
   "id": "3b64c908",
   "metadata": {},
   "outputs": [],
   "source": [
    "def name(a, b, c, d):\n",
    "    print(a(c), b(d))"
   ]
  },
  {
   "cell_type": "code",
   "execution_count": 74,
   "id": "0919cbf0",
   "metadata": {},
   "outputs": [
    {
     "name": "stdout",
     "output_type": "stream",
     "text": [
      "Abhijeet Bhattacharya\n"
     ]
    }
   ],
   "source": [
    "name(first, second, 'Abhijeet', 'Bhattacharya')"
   ]
  },
  {
   "cell_type": "code",
   "execution_count": 75,
   "id": "9689876b",
   "metadata": {},
   "outputs": [
    {
     "name": "stdout",
     "output_type": "stream",
     "text": [
      "<function first at 0x7ff5290e7670>\n"
     ]
    }
   ],
   "source": [
    "print(first)"
   ]
  },
  {
   "cell_type": "code",
   "execution_count": 76,
   "id": "09a3a70d",
   "metadata": {},
   "outputs": [],
   "source": [
    "# If\n",
    "# Elif\n",
    "# Else\n",
    "# Switch"
   ]
  },
  {
   "cell_type": "code",
   "execution_count": 77,
   "id": "f5d63b07",
   "metadata": {},
   "outputs": [],
   "source": [
    "b = 2"
   ]
  },
  {
   "cell_type": "code",
   "execution_count": 78,
   "id": "40e8e230",
   "metadata": {},
   "outputs": [
    {
     "data": {
      "text/plain": [
       "False"
      ]
     },
     "execution_count": 78,
     "metadata": {},
     "output_type": "execute_result"
    }
   ],
   "source": [
    "b == 29"
   ]
  },
  {
   "cell_type": "code",
   "execution_count": 79,
   "id": "f257045c",
   "metadata": {},
   "outputs": [
    {
     "data": {
      "text/plain": [
       "False"
      ]
     },
     "execution_count": 79,
     "metadata": {},
     "output_type": "execute_result"
    }
   ],
   "source": [
    "b > 100"
   ]
  },
  {
   "cell_type": "code",
   "execution_count": 80,
   "id": "1c233db3",
   "metadata": {},
   "outputs": [],
   "source": [
    "if b > 10:\n",
    "    print(\"The value of b is greater than 10\")"
   ]
  },
  {
   "cell_type": "code",
   "execution_count": 81,
   "id": "0ca95d63",
   "metadata": {},
   "outputs": [],
   "source": [
    "if b > 20:\n",
    "    print(\"The value of b is greater than 20\")"
   ]
  },
  {
   "cell_type": "code",
   "execution_count": 82,
   "id": "ebc63976",
   "metadata": {},
   "outputs": [],
   "source": [
    "if b > 30:\n",
    "    print(\"The value of b is greater than 30\")"
   ]
  },
  {
   "cell_type": "code",
   "execution_count": 83,
   "id": "19a7a6f8",
   "metadata": {},
   "outputs": [
    {
     "name": "stdout",
     "output_type": "stream",
     "text": [
      "Value greater than 20 but less than 30\n"
     ]
    }
   ],
   "source": [
    "if b == 10:\n",
    "    print(\"The value of b is greater than 10\")\n",
    "elif b > 20:\n",
    "    print(\"Value also greater than 20\")\n",
    "if b > 30:\n",
    "    print(\"Value greater than 30\")\n",
    "if b < 30:\n",
    "    print(\"Value greater than 20 but less than 30\")\n",
    "else:\n",
    "    print(\"Value not in scale\")"
   ]
  },
  {
   "cell_type": "code",
   "execution_count": 84,
   "id": "6c8aad28",
   "metadata": {},
   "outputs": [
    {
     "data": {
      "text/plain": [
       "2"
      ]
     },
     "execution_count": 84,
     "metadata": {},
     "output_type": "execute_result"
    }
   ],
   "source": [
    "b"
   ]
  },
  {
   "cell_type": "code",
   "execution_count": 85,
   "id": "941cde04",
   "metadata": {},
   "outputs": [],
   "source": [
    "integer = 10"
   ]
  },
  {
   "cell_type": "code",
   "execution_count": 86,
   "id": "993c8643",
   "metadata": {
    "scrolled": true
   },
   "outputs": [
    {
     "name": "stdout",
     "output_type": "stream",
     "text": [
      "Hello\n"
     ]
    }
   ],
   "source": [
    "if integer == 9:\n",
    "    print(\"Hi\")\n",
    "if integer == 10:\n",
    "    print(\"Hello\")\n",
    "else:\n",
    "    print(\"Bye\")"
   ]
  },
  {
   "cell_type": "code",
   "execution_count": 87,
   "id": "a12aa6bd",
   "metadata": {},
   "outputs": [
    {
     "name": "stdout",
     "output_type": "stream",
     "text": [
      "10\n",
      "not 10\n"
     ]
    }
   ],
   "source": [
    "if integer == 10:\n",
    "    print(\"10\")\n",
    "print(\"not 10\")"
   ]
  },
  {
   "cell_type": "code",
   "execution_count": 88,
   "id": "5048f4fd",
   "metadata": {},
   "outputs": [],
   "source": [
    "def func(a,b):\n",
    "    if(a==b):\n",
    "        print(\"a is equal to b\")\n",
    "    elif(a>b):\n",
    "        print(\"a is greater than b\")\n",
    "    else:\n",
    "        print(\"b is greater than a\")"
   ]
  },
  {
   "cell_type": "code",
   "execution_count": 89,
   "id": "c56f4052",
   "metadata": {},
   "outputs": [],
   "source": [
    "def compar(a,b):\n",
    "    if a==b:\n",
    "        p = str(a) + \" is equal to \" + str(b)\n",
    "        return p\n",
    "    \n",
    "    elif a>b:\n",
    "        q = str(a) + \" is greater than \" + str(b)\n",
    "        return q\n",
    "    \n",
    "    else :\n",
    "        s = str(b) + \" is greater than \" + str(a)\n",
    "        return s"
   ]
  },
  {
   "cell_type": "code",
   "execution_count": 90,
   "id": "2a9966bc",
   "metadata": {},
   "outputs": [
    {
     "name": "stdout",
     "output_type": "stream",
     "text": [
      "b is greater than a\n"
     ]
    }
   ],
   "source": [
    "func(10, 20)"
   ]
  },
  {
   "cell_type": "code",
   "execution_count": 91,
   "id": "106e5861",
   "metadata": {},
   "outputs": [
    {
     "name": "stdout",
     "output_type": "stream",
     "text": [
      "enter the first no.2\n",
      "enter the second no.3\n"
     ]
    }
   ],
   "source": [
    "a = int(input(\"enter the first no.\"))\n",
    "\n",
    "b = int(input(\"enter the second no.\"))"
   ]
  },
  {
   "cell_type": "code",
   "execution_count": 92,
   "id": "9358a726",
   "metadata": {},
   "outputs": [
    {
     "name": "stdout",
     "output_type": "stream",
     "text": [
      "B is greater than A\n"
     ]
    }
   ],
   "source": [
    "if a>b:\n",
    "  print(\"A is greater than B\")\n",
    "elif a<b:\n",
    "  print(\"B is greater than A\")\n",
    "else :\n",
    "  print(\"A and B are equal\")"
   ]
  },
  {
   "cell_type": "code",
   "execution_count": 93,
   "id": "5278049e",
   "metadata": {},
   "outputs": [
    {
     "name": "stdout",
     "output_type": "stream",
     "text": [
      "b is greater than a\n"
     ]
    }
   ],
   "source": [
    "def greater(a,b):\n",
    "    if a > b:\n",
    "        print('a is greater than b')\n",
    "    else :\n",
    "        print('b is greater than a')\n",
    "greater(10,10)"
   ]
  },
  {
   "cell_type": "code",
   "execution_count": 94,
   "id": "9e522295",
   "metadata": {},
   "outputs": [],
   "source": [
    "def fun(a,b):\n",
    "    if a>b:\n",
    "        print(\"A is greater\")\n",
    "    elif a<b:\n",
    "        print(\"B is greater\")\n",
    "    else:\n",
    "        print(\"Equal\")"
   ]
  },
  {
   "cell_type": "code",
   "execution_count": 95,
   "id": "16383d9a",
   "metadata": {},
   "outputs": [
    {
     "name": "stdout",
     "output_type": "stream",
     "text": [
      "Equal\n"
     ]
    }
   ],
   "source": [
    "fun(10, 10)"
   ]
  },
  {
   "cell_type": "code",
   "execution_count": 96,
   "id": "d7aec7c5",
   "metadata": {},
   "outputs": [
    {
     "name": "stdout",
     "output_type": "stream",
     "text": [
      "Enter a number: 1\n"
     ]
    }
   ],
   "source": [
    "b = input(\"Enter a number: \")"
   ]
  },
  {
   "cell_type": "code",
   "execution_count": 97,
   "id": "acd13187",
   "metadata": {},
   "outputs": [
    {
     "name": "stdout",
     "output_type": "stream",
     "text": [
      "1 <class 'str'>\n"
     ]
    }
   ],
   "source": [
    "print(b, type(b))"
   ]
  },
  {
   "cell_type": "code",
   "execution_count": 98,
   "id": "d423d0b8",
   "metadata": {},
   "outputs": [
    {
     "name": "stdout",
     "output_type": "stream",
     "text": [
      "5\n"
     ]
    },
    {
     "data": {
      "text/plain": [
       "'5'"
      ]
     },
     "execution_count": 98,
     "metadata": {},
     "output_type": "execute_result"
    }
   ],
   "source": [
    "input()"
   ]
  },
  {
   "cell_type": "code",
   "execution_count": 99,
   "id": "068e33b8",
   "metadata": {},
   "outputs": [
    {
     "data": {
      "text/plain": [
       "'1'"
      ]
     },
     "execution_count": 99,
     "metadata": {},
     "output_type": "execute_result"
    }
   ],
   "source": [
    "b"
   ]
  },
  {
   "cell_type": "code",
   "execution_count": 100,
   "id": "d64c9f99",
   "metadata": {},
   "outputs": [
    {
     "name": "stdout",
     "output_type": "stream",
     "text": [
      "False\n"
     ]
    }
   ],
   "source": [
    "print(b == '6')"
   ]
  },
  {
   "cell_type": "code",
   "execution_count": 101,
   "id": "3304e99d",
   "metadata": {},
   "outputs": [],
   "source": [
    "# Type casting\n",
    "b = int(b)"
   ]
  },
  {
   "cell_type": "code",
   "execution_count": 102,
   "id": "b69e5d7a",
   "metadata": {},
   "outputs": [
    {
     "data": {
      "text/plain": [
       "int"
      ]
     },
     "execution_count": 102,
     "metadata": {},
     "output_type": "execute_result"
    }
   ],
   "source": [
    "type(b)"
   ]
  },
  {
   "cell_type": "code",
   "execution_count": 103,
   "id": "030730c4",
   "metadata": {},
   "outputs": [
    {
     "name": "stdout",
     "output_type": "stream",
     "text": [
      "Enter a number: 2\n",
      "<class 'int'>\n"
     ]
    }
   ],
   "source": [
    "b = int(input(\"Enter a number: \"))\n",
    "print(type(b))"
   ]
  },
  {
   "cell_type": "code",
   "execution_count": 104,
   "id": "374066e5",
   "metadata": {},
   "outputs": [
    {
     "name": "stdout",
     "output_type": "stream",
     "text": [
      "False\n"
     ]
    }
   ],
   "source": [
    "print(b == 22)"
   ]
  },
  {
   "cell_type": "code",
   "execution_count": 105,
   "id": "950cbed3",
   "metadata": {},
   "outputs": [
    {
     "name": "stdout",
     "output_type": "stream",
     "text": [
      "Enter argument6\n",
      "Enter argument7\n",
      "B is greater\n"
     ]
    }
   ],
   "source": [
    "fun(int(input('Enter argument')), int(input('Enter argument')))"
   ]
  },
  {
   "cell_type": "code",
   "execution_count": 106,
   "id": "bcdf5e44",
   "metadata": {},
   "outputs": [
    {
     "name": "stdout",
     "output_type": "stream",
     "text": [
      "<class 'str'>\n"
     ]
    }
   ],
   "source": [
    "print(type(str(b)))"
   ]
  },
  {
   "cell_type": "code",
   "execution_count": 107,
   "id": "cee5c6cf",
   "metadata": {},
   "outputs": [
    {
     "data": {
      "text/plain": [
       "2"
      ]
     },
     "execution_count": 107,
     "metadata": {},
     "output_type": "execute_result"
    }
   ],
   "source": [
    "b"
   ]
  },
  {
   "cell_type": "code",
   "execution_count": 108,
   "id": "239a3587",
   "metadata": {},
   "outputs": [
    {
     "data": {
      "text/plain": [
       "int"
      ]
     },
     "execution_count": 108,
     "metadata": {},
     "output_type": "execute_result"
    }
   ],
   "source": [
    "b = str(b)\n",
    "type(int(b))"
   ]
  },
  {
   "cell_type": "code",
   "execution_count": 109,
   "id": "f48d233d",
   "metadata": {},
   "outputs": [
    {
     "data": {
      "text/plain": [
       "str"
      ]
     },
     "execution_count": 109,
     "metadata": {},
     "output_type": "execute_result"
    }
   ],
   "source": [
    "type(b)"
   ]
  },
  {
   "cell_type": "code",
   "execution_count": 110,
   "id": "cf35680c",
   "metadata": {},
   "outputs": [
    {
     "name": "stdout",
     "output_type": "stream",
     "text": [
      "Enter random values: 8\n",
      "8\n"
     ]
    }
   ],
   "source": [
    "print(int(input('Enter random values: ')))"
   ]
  },
  {
   "cell_type": "code",
   "execution_count": 111,
   "id": "da82db1d",
   "metadata": {},
   "outputs": [],
   "source": [
    "def odd_even(s):\n",
    "    if s % 2 == 0:\n",
    "        print(\"EVEN\")\n",
    "    else:\n",
    "        print(\"ODD\")"
   ]
  },
  {
   "cell_type": "code",
   "execution_count": 112,
   "id": "3244b43f",
   "metadata": {},
   "outputs": [
    {
     "name": "stdout",
     "output_type": "stream",
     "text": [
      "Enter number4\n",
      "EVEN\n"
     ]
    }
   ],
   "source": [
    "odd_even(int(input('Enter number')))"
   ]
  },
  {
   "cell_type": "code",
   "execution_count": 113,
   "id": "dd881bc6",
   "metadata": {},
   "outputs": [
    {
     "name": "stdout",
     "output_type": "stream",
     "text": [
      "enter5\n",
      "str\n"
     ]
    }
   ],
   "source": [
    "def intbool(a):\n",
    "    if(type(a)==int):\n",
    "        print('int')\n",
    "    elif(type(a)==str):\n",
    "        print('str')\n",
    "    else:\n",
    "        print('bool')\n",
    "a = input(\"enter\")\n",
    "intbool(a)"
   ]
  },
  {
   "cell_type": "code",
   "execution_count": 114,
   "id": "43fa1587",
   "metadata": {},
   "outputs": [],
   "source": [
    "# Loops\n",
    "# While\n",
    "# For"
   ]
  },
  {
   "cell_type": "code",
   "execution_count": 115,
   "id": "86399857",
   "metadata": {},
   "outputs": [
    {
     "name": "stdout",
     "output_type": "stream",
     "text": [
      "hello\n"
     ]
    }
   ],
   "source": [
    "print(\"hello\")"
   ]
  },
  {
   "cell_type": "code",
   "execution_count": 116,
   "id": "e58a0508",
   "metadata": {},
   "outputs": [
    {
     "name": "stdout",
     "output_type": "stream",
     "text": [
      "Hello World!\n",
      "Hello World!\n",
      "Hello World!\n",
      "Hello World!\n",
      "Hello World!\n"
     ]
    }
   ],
   "source": [
    "for i in range(5):\n",
    "    print(\"Hello World!\")"
   ]
  },
  {
   "cell_type": "code",
   "execution_count": 117,
   "id": "daa347cf",
   "metadata": {},
   "outputs": [
    {
     "name": "stdout",
     "output_type": "stream",
     "text": [
      "Enter a number6\n",
      "<class 'int'>\n",
      "Enter a number6\n",
      "<class 'int'>\n"
     ]
    }
   ],
   "source": [
    "for i in range(2):\n",
    "    i = int(input(\"Enter a number\"))\n",
    "    print(type(i))"
   ]
  },
  {
   "cell_type": "code",
   "execution_count": 118,
   "id": "aea6b898",
   "metadata": {},
   "outputs": [
    {
     "name": "stdout",
     "output_type": "stream",
     "text": [
      "<class 'str'>\n"
     ]
    }
   ],
   "source": [
    "a = '2'\n",
    "print(type(a))"
   ]
  },
  {
   "cell_type": "code",
   "execution_count": 119,
   "id": "57fba9a0",
   "metadata": {},
   "outputs": [],
   "source": [
    "def fact(a):\n",
    "    x=1\n",
    "    for i in range(0,a):\n",
    "        x= x*(i+1)\n",
    "    return x"
   ]
  },
  {
   "cell_type": "code",
   "execution_count": 120,
   "id": "b6fb3acf",
   "metadata": {},
   "outputs": [
    {
     "name": "stdout",
     "output_type": "stream",
     "text": [
      "Enter Number6\n"
     ]
    },
    {
     "data": {
      "text/plain": [
       "720"
      ]
     },
     "execution_count": 120,
     "metadata": {},
     "output_type": "execute_result"
    }
   ],
   "source": [
    "fact(int(input(\"Enter Number\")))"
   ]
  },
  {
   "cell_type": "code",
   "execution_count": 121,
   "id": "96fdadd9",
   "metadata": {},
   "outputs": [],
   "source": [
    "def factorial():\n",
    "    a=5\n",
    "    fact=1\n",
    "    for i in range(1,a+1):\n",
    "        fact=fact*i\n",
    "    return fact"
   ]
  },
  {
   "cell_type": "code",
   "execution_count": 122,
   "id": "0c4b7b60",
   "metadata": {},
   "outputs": [
    {
     "data": {
      "text/plain": [
       "120"
      ]
     },
     "execution_count": 122,
     "metadata": {},
     "output_type": "execute_result"
    }
   ],
   "source": [
    "factorial()"
   ]
  },
  {
   "cell_type": "code",
   "execution_count": 123,
   "id": "0bbb676b",
   "metadata": {},
   "outputs": [],
   "source": [
    "def findSumBetween(a, b):\n",
    "    ans = 0\n",
    "    for k in range(a,b+1):\n",
    "        ans = ans + k\n",
    "    return ans"
   ]
  },
  {
   "cell_type": "code",
   "execution_count": 124,
   "id": "74df0321",
   "metadata": {},
   "outputs": [
    {
     "data": {
      "text/plain": [
       "3"
      ]
     },
     "execution_count": 124,
     "metadata": {},
     "output_type": "execute_result"
    }
   ],
   "source": [
    "findSumBetween(1, 2)"
   ]
  },
  {
   "cell_type": "code",
   "execution_count": 125,
   "id": "f4f970d8",
   "metadata": {},
   "outputs": [],
   "source": [
    "def findSumBetween(b, a=5):\n",
    "    ans = 0\n",
    "    for k in range(a,b+1):\n",
    "        ans = ans + k\n",
    "#     print(ans)\n",
    "    return ans"
   ]
  },
  {
   "cell_type": "code",
   "execution_count": 126,
   "id": "5d45a82d",
   "metadata": {},
   "outputs": [
    {
     "name": "stdout",
     "output_type": "stream",
     "text": [
      "55\n",
      "45\n"
     ]
    }
   ],
   "source": [
    "print(findSumBetween(10, 0))\n",
    "print(findSumBetween(10))"
   ]
  },
  {
   "cell_type": "code",
   "execution_count": 127,
   "id": "0d2c75d7",
   "metadata": {},
   "outputs": [
    {
     "name": "stdout",
     "output_type": "stream",
     "text": [
      "The Iterator has a value of:  1\n",
      "The Iterator has a value of:  2\n",
      "The Iterator has a value of:  3\n",
      "The Iterator has a value of:  4\n"
     ]
    }
   ],
   "source": [
    "for i in range(1, 5):\n",
    "    print(\"The Iterator has a value of: \", i)"
   ]
  },
  {
   "cell_type": "code",
   "execution_count": 129,
   "id": "f211678e",
   "metadata": {},
   "outputs": [],
   "source": [
    "string = \"Hello world!\""
   ]
  },
  {
   "cell_type": "code",
   "execution_count": 130,
   "id": "4978d7ee",
   "metadata": {},
   "outputs": [
    {
     "name": "stdout",
     "output_type": "stream",
     "text": [
      "H\n",
      "e\n",
      "l\n",
      "l\n",
      "o\n",
      " \n",
      "w\n",
      "o\n",
      "r\n",
      "l\n",
      "d\n",
      "!\n"
     ]
    }
   ],
   "source": [
    "for i in string:\n",
    "    print(i)"
   ]
  },
  {
   "cell_type": "code",
   "execution_count": 133,
   "id": "ef795a12",
   "metadata": {},
   "outputs": [
    {
     "name": "stdout",
     "output_type": "stream",
     "text": [
      "2\n"
     ]
    }
   ],
   "source": [
    "string = '2'\n",
    "for i in string:\n",
    "    print(i)"
   ]
  },
  {
   "cell_type": "code",
   "execution_count": 134,
   "id": "22d5b15f",
   "metadata": {},
   "outputs": [],
   "source": [
    "# While Loop"
   ]
  },
  {
   "cell_type": "code",
   "execution_count": 136,
   "id": "7fe3e81c",
   "metadata": {},
   "outputs": [
    {
     "name": "stdout",
     "output_type": "stream",
     "text": [
      "Current value of number is--> 0\n",
      "Current value of number is--> 1\n",
      "Current value of number is--> 2\n",
      "Current value of number is--> 3\n",
      "Current value of number is--> 4\n",
      "Current value of number is--> 5\n",
      "Current value of number is--> 6\n",
      "Current value of number is--> 7\n",
      "Current value of number is--> 8\n",
      "Current value of number is--> 9\n",
      "Current value of number is--> 10\n"
     ]
    }
   ],
   "source": [
    "number_1 = 0\n",
    "while number_1 <= 10:\n",
    "    print(\"Current value of number is -->\", number_1)\n",
    "    number_1 = number_1 + 1"
   ]
  },
  {
   "cell_type": "code",
   "execution_count": 137,
   "id": "381b3766",
   "metadata": {},
   "outputs": [
    {
     "data": {
      "text/plain": [
       "11"
      ]
     },
     "execution_count": 137,
     "metadata": {},
     "output_type": "execute_result"
    }
   ],
   "source": [
    "number_1"
   ]
  },
  {
   "cell_type": "code",
   "execution_count": 138,
   "id": "5d6d94dd",
   "metadata": {},
   "outputs": [],
   "source": [
    "# Break\n",
    "# Continue"
   ]
  },
  {
   "cell_type": "code",
   "execution_count": 139,
   "id": "d3b98924",
   "metadata": {},
   "outputs": [
    {
     "name": "stdout",
     "output_type": "stream",
     "text": [
      "0\n",
      "1\n",
      "2\n",
      "3\n",
      "4\n"
     ]
    }
   ],
   "source": [
    "for i in range(10):\n",
    "    if (i == 5):\n",
    "        break\n",
    "    else:\n",
    "        print(i)"
   ]
  },
  {
   "cell_type": "code",
   "execution_count": 146,
   "id": "b7390cba",
   "metadata": {},
   "outputs": [
    {
     "name": "stdout",
     "output_type": "stream",
     "text": [
      "Value of J: 0\n",
      "0\n",
      "1\n",
      "Value of J: 1\n",
      "0\n",
      "1\n"
     ]
    }
   ],
   "source": [
    "for j in range(500):\n",
    "    if (j == 2):\n",
    "        break\n",
    "    print(\"Value of J:\", j)\n",
    "    for i in range(500):\n",
    "            if (i == 2):\n",
    "                break\n",
    "            else:\n",
    "                print(i)"
   ]
  },
  {
   "cell_type": "code",
   "execution_count": 148,
   "id": "f972c538",
   "metadata": {},
   "outputs": [
    {
     "name": "stdout",
     "output_type": "stream",
     "text": [
      "Enter the number:- 1\n",
      "Password Incorrect\n",
      "Enter the number:- 2\n",
      "Password Incorrect\n",
      "Enter the number:- 3\n",
      "Password Incorrect\n",
      "Enter the number:- 9\n",
      "Password Correct\n"
     ]
    }
   ],
   "source": [
    "# while(1):\n",
    "while(True):\n",
    "    a = int(input(\"Enter the number:- \"))\n",
    "    \n",
    "    if (a==9):\n",
    "        print(\"Password Correct\")\n",
    "        break\n",
    "    else:\n",
    "        print(\"Password Incorrect\")"
   ]
  },
  {
   "cell_type": "code",
   "execution_count": 147,
   "id": "5568fa75",
   "metadata": {},
   "outputs": [
    {
     "data": {
      "text/plain": [
       "False"
      ]
     },
     "execution_count": 147,
     "metadata": {},
     "output_type": "execute_result"
    }
   ],
   "source": [
    "number_1 <= 10"
   ]
  },
  {
   "cell_type": "code",
   "execution_count": 151,
   "id": "cb9d789c",
   "metadata": {},
   "outputs": [
    {
     "name": "stdout",
     "output_type": "stream",
     "text": [
      "1\n",
      "Password Incorrect\n",
      "2\n",
      "Password Incorrect\n",
      "7\n",
      "Password Incorrect\n",
      "8\n",
      "Password Incorrect\n",
      "9\n",
      "Password Correct\n"
     ]
    }
   ],
   "source": [
    "for i in range(1000):\n",
    "    a=int(input())\n",
    "    if(a==9):\n",
    "        print(\"Password Correct\")\n",
    "        break\n",
    "    else:\n",
    "        print(\"Password Incorrect\")"
   ]
  },
  {
   "cell_type": "code",
   "execution_count": 152,
   "id": "9dd0ef19",
   "metadata": {},
   "outputs": [
    {
     "name": "stdout",
     "output_type": "stream",
     "text": [
      "Value of i: 0\n",
      "0\n",
      "1\n",
      "2\n",
      "3\n",
      "4\n",
      "Value of i: 1\n",
      "0\n",
      "1\n",
      "2\n",
      "3\n",
      "4\n",
      "Value of i: 2\n",
      "0\n",
      "1\n",
      "2\n",
      "3\n",
      "4\n",
      "Value of i: 3\n",
      "0\n",
      "1\n",
      "2\n",
      "3\n",
      "4\n",
      "Value of i: 4\n",
      "0\n",
      "1\n",
      "2\n",
      "3\n",
      "4\n"
     ]
    }
   ],
   "source": [
    "for i in range(5):\n",
    "    print(\"Value of i:\", i)\n",
    "    for j in range(5):\n",
    "        print(j)"
   ]
  },
  {
   "cell_type": "code",
   "execution_count": 158,
   "id": "0a9b0a28",
   "metadata": {},
   "outputs": [
    {
     "name": "stdout",
     "output_type": "stream",
     "text": [
      "Enter Value: 1\n",
      "1\n",
      "Enter Value: 2\n",
      "2\n",
      "Enter Value: 3\n",
      "3\n",
      "Enter Value: 7\n",
      "Code goes to next iteration in the current loop\n",
      "Enter Value: 0\n"
     ]
    }
   ],
   "source": [
    "for i in range(10):\n",
    "    i = int(input('Enter Value: '))\n",
    "    if i==7:\n",
    "        print(\"Code goes to next iteration in the current loop\")\n",
    "        continue\n",
    "    elif i == 0:\n",
    "        break\n",
    "    print(i)"
   ]
  },
  {
   "cell_type": "code",
   "execution_count": 162,
   "id": "2f6d6cdd",
   "metadata": {},
   "outputs": [
    {
     "data": {
      "text/plain": [
       "True"
      ]
     },
     "execution_count": 162,
     "metadata": {},
     "output_type": "execute_result"
    }
   ],
   "source": [
    "number_1 != 12"
   ]
  },
  {
   "cell_type": "code",
   "execution_count": 164,
   "id": "c91b5089",
   "metadata": {},
   "outputs": [],
   "source": [
    "a+=10"
   ]
  },
  {
   "cell_type": "code",
   "execution_count": 166,
   "id": "2baf3fd6",
   "metadata": {},
   "outputs": [],
   "source": [
    "a-=10"
   ]
  },
  {
   "cell_type": "code",
   "execution_count": 168,
   "id": "6743bd9c",
   "metadata": {},
   "outputs": [],
   "source": [
    "a*=10"
   ]
  },
  {
   "cell_type": "code",
   "execution_count": 170,
   "id": "b52f1b5e",
   "metadata": {},
   "outputs": [],
   "source": [
    "a/=10"
   ]
  },
  {
   "cell_type": "code",
   "execution_count": 171,
   "id": "66647e70",
   "metadata": {},
   "outputs": [
    {
     "data": {
      "text/plain": [
       "9.0"
      ]
     },
     "execution_count": 171,
     "metadata": {},
     "output_type": "execute_result"
    }
   ],
   "source": [
    "a"
   ]
  },
  {
   "cell_type": "code",
   "execution_count": 177,
   "id": "ce3f1ca7",
   "metadata": {},
   "outputs": [],
   "source": [
    "a = a**2"
   ]
  },
  {
   "cell_type": "code",
   "execution_count": 179,
   "id": "7090abca",
   "metadata": {},
   "outputs": [],
   "source": [
    "a = a**0.5"
   ]
  },
  {
   "cell_type": "code",
   "execution_count": 180,
   "id": "98059457",
   "metadata": {},
   "outputs": [
    {
     "data": {
      "text/plain": [
       "9.0"
      ]
     },
     "execution_count": 180,
     "metadata": {},
     "output_type": "execute_result"
    }
   ],
   "source": [
    "a"
   ]
  },
  {
   "cell_type": "code",
   "execution_count": 182,
   "id": "3277502f",
   "metadata": {},
   "outputs": [
    {
     "name": "stdout",
     "output_type": "stream",
     "text": [
      "Hello World!\n"
     ]
    }
   ],
   "source": [
    "if (integer == 100) or (integer %2 == 0):\n",
    "    print(\"Hello World!\")\n",
    "else:\n",
    "    print(\"Bye\")"
   ]
  },
  {
   "cell_type": "code",
   "execution_count": 183,
   "id": "d17d2367",
   "metadata": {},
   "outputs": [
    {
     "name": "stdout",
     "output_type": "stream",
     "text": [
      "Bye\n"
     ]
    }
   ],
   "source": [
    "if (integer == 100) and (integer %2 == 0):\n",
    "    print(\"Hello World!\")\n",
    "else:\n",
    "    print(\"Bye\")"
   ]
  },
  {
   "cell_type": "code",
   "execution_count": 190,
   "id": "4cfdb599",
   "metadata": {},
   "outputs": [
    {
     "name": "stdout",
     "output_type": "stream",
     "text": [
      "Enter a number:29\n",
      "29 is a prime number\n"
     ]
    }
   ],
   "source": [
    "num = int(input(\"Enter a number:\"))\n",
    "\n",
    "flag = False\n",
    "\n",
    "if num == 1:\n",
    "    print('Number is a special number')\n",
    "elif num > 1:\n",
    "    for i in range(2, num - 1):\n",
    "        if (num%i) == 0:\n",
    "            flag = True\n",
    "            break\n",
    "    if flag:\n",
    "        print(num, \"is not a prime number\")\n",
    "    else:\n",
    "        print(num, \"is a prime number\")"
   ]
  },
  {
   "cell_type": "code",
   "execution_count": 193,
   "id": "c61e8a68",
   "metadata": {},
   "outputs": [
    {
     "name": "stdout",
     "output_type": "stream",
     "text": [
      "The factors of 64 are:\n",
      "1\n",
      "2\n",
      "4\n",
      "8\n",
      "16\n",
      "32\n",
      "64\n"
     ]
    }
   ],
   "source": [
    "def factors(x):\n",
    "    print(\"The factors of\",x,\"are:\")\n",
    "    for i in range(1, x + 1):\n",
    "        if x % i == 0:\n",
    "            print(i)\n",
    "num = 64\n",
    "factors(num)"
   ]
  },
  {
   "cell_type": "code",
   "execution_count": null,
   "id": "d0a6b918",
   "metadata": {},
   "outputs": [],
   "source": []
  }
 ],
 "metadata": {
  "kernelspec": {
   "display_name": "Python 3 (ipykernel)",
   "language": "python",
   "name": "python3"
  },
  "language_info": {
   "codemirror_mode": {
    "name": "ipython",
    "version": 3
   },
   "file_extension": ".py",
   "mimetype": "text/x-python",
   "name": "python",
   "nbconvert_exporter": "python",
   "pygments_lexer": "ipython3",
   "version": "3.8.10"
  }
 },
 "nbformat": 4,
 "nbformat_minor": 5
}
