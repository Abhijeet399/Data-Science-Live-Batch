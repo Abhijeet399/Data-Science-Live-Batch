{
 "cells": [
  {
   "cell_type": "code",
   "execution_count": 18,
   "id": "53791199",
   "metadata": {},
   "outputs": [],
   "source": [
    "file = open('file.txt', 'r')"
   ]
  },
  {
   "cell_type": "code",
   "execution_count": 19,
   "id": "49c172cc",
   "metadata": {},
   "outputs": [
    {
     "name": "stdout",
     "output_type": "stream",
     "text": [
      "<_io.TextIOWrapper name='file.txt' mode='r' encoding='UTF-8'>\n"
     ]
    }
   ],
   "source": [
    "print(file)"
   ]
  },
  {
   "cell_type": "code",
   "execution_count": 20,
   "id": "31b337d5",
   "metadata": {},
   "outputs": [
    {
     "data": {
      "text/plain": [
       "'Hell'"
      ]
     },
     "execution_count": 20,
     "metadata": {},
     "output_type": "execute_result"
    }
   ],
   "source": [
    "file.read(4)"
   ]
  },
  {
   "cell_type": "code",
   "execution_count": 21,
   "id": "364bd119",
   "metadata": {},
   "outputs": [
    {
     "data": {
      "text/plain": [
       "'o world!\\nGood evening!'"
      ]
     },
     "execution_count": 21,
     "metadata": {},
     "output_type": "execute_result"
    }
   ],
   "source": [
    "file.read(-1)"
   ]
  },
  {
   "cell_type": "code",
   "execution_count": 23,
   "id": "1b874096",
   "metadata": {},
   "outputs": [],
   "source": [
    "file.close()"
   ]
  },
  {
   "cell_type": "code",
   "execution_count": 17,
   "id": "f786cf28",
   "metadata": {},
   "outputs": [
    {
     "name": "stdout",
     "output_type": "stream",
     "text": [
      "9\n"
     ]
    }
   ],
   "source": [
    "lst = [1,2,3,4,5,6,7,8,9]\n",
    "print(lst[-1])"
   ]
  },
  {
   "cell_type": "code",
   "execution_count": 31,
   "id": "c1d60e43",
   "metadata": {},
   "outputs": [],
   "source": [
    "file = open('file.txt')"
   ]
  },
  {
   "cell_type": "code",
   "execution_count": 32,
   "id": "272ccfff",
   "metadata": {},
   "outputs": [
    {
     "name": "stdout",
     "output_type": "stream",
     "text": [
      "Hello world!\n",
      "\n",
      "Good evening!\n"
     ]
    }
   ],
   "source": [
    "for _ in range(2):\n",
    "    print(file.readline())"
   ]
  },
  {
   "cell_type": "code",
   "execution_count": 33,
   "id": "9e518311",
   "metadata": {},
   "outputs": [],
   "source": [
    "file.close()"
   ]
  },
  {
   "cell_type": "code",
   "execution_count": 34,
   "id": "a5cafcea",
   "metadata": {},
   "outputs": [
    {
     "name": "stdout",
     "output_type": "stream",
     "text": [
      "H\n",
      "e\n",
      "l\n",
      "l\n",
      "o\n",
      " \n",
      "w\n",
      "o\n",
      "r\n",
      "l\n",
      "d\n",
      "!\n",
      "\n",
      "\n"
     ]
    }
   ],
   "source": [
    "file = open('file.txt', 'r')\n",
    "for i in file.readline():\n",
    "    print(i)\n",
    "file.close()"
   ]
  },
  {
   "cell_type": "code",
   "execution_count": 48,
   "id": "b9f4da61",
   "metadata": {},
   "outputs": [
    {
     "name": "stdout",
     "output_type": "stream",
     "text": [
      "['Hello world!\\n', 'Good evening!']\n"
     ]
    }
   ],
   "source": [
    "file = open('file.txt', 'r')\n",
    "print(file.readlines(-1))\n",
    "file.close()"
   ]
  },
  {
   "cell_type": "code",
   "execution_count": 41,
   "id": "90d7d1d0",
   "metadata": {},
   "outputs": [
    {
     "name": "stdout",
     "output_type": "stream",
     "text": [
      "Hello world!\n",
      "\n",
      "Good evening!\n"
     ]
    }
   ],
   "source": [
    "for i in file.readlines():\n",
    "    print(i)\n",
    "file.close()"
   ]
  },
  {
   "cell_type": "code",
   "execution_count": 42,
   "id": "9e570ac4",
   "metadata": {},
   "outputs": [],
   "source": [
    "file.readlines?"
   ]
  },
  {
   "cell_type": "code",
   "execution_count": 55,
   "id": "3365e2cc",
   "metadata": {},
   "outputs": [
    {
     "name": "stdout",
     "output_type": "stream",
     "text": [
      "Hello \n"
     ]
    }
   ],
   "source": [
    "file = open('file.txt', 'r')\n",
    "print(file.read(6))"
   ]
  },
  {
   "cell_type": "code",
   "execution_count": 56,
   "id": "e330b17c",
   "metadata": {},
   "outputs": [
    {
     "data": {
      "text/plain": [
       "'wo'"
      ]
     },
     "execution_count": 56,
     "metadata": {},
     "output_type": "execute_result"
    }
   ],
   "source": [
    "file.read(2)"
   ]
  },
  {
   "cell_type": "code",
   "execution_count": 58,
   "id": "10dcc1fe",
   "metadata": {},
   "outputs": [
    {
     "name": "stdout",
     "output_type": "stream",
     "text": [
      "lo wo\n"
     ]
    }
   ],
   "source": [
    "file.seek(3)\n",
    "print(file.read(5))"
   ]
  },
  {
   "cell_type": "code",
   "execution_count": 54,
   "id": "e9c30853",
   "metadata": {},
   "outputs": [],
   "source": [
    "file.close()"
   ]
  },
  {
   "cell_type": "code",
   "execution_count": 63,
   "id": "95c50144",
   "metadata": {},
   "outputs": [],
   "source": [
    "file = open('abhijeet.txt', 'w')"
   ]
  },
  {
   "cell_type": "code",
   "execution_count": 64,
   "id": "fe057822",
   "metadata": {},
   "outputs": [
    {
     "name": "stdout",
     "output_type": "stream",
     "text": [
      "Enter stringHello\n",
      "Enter stringworld\n",
      "Enter stringAbhijeet\n"
     ]
    }
   ],
   "source": [
    "for i in range(3):\n",
    "    inp = input('Enter string')\n",
    "    file.write(inp + '\\n')"
   ]
  },
  {
   "cell_type": "code",
   "execution_count": 65,
   "id": "ed039978",
   "metadata": {},
   "outputs": [],
   "source": [
    "file.close()"
   ]
  },
  {
   "cell_type": "code",
   "execution_count": 66,
   "id": "48ab42d4",
   "metadata": {},
   "outputs": [],
   "source": [
    "file = open('file.txt', 'a')\n",
    "file.write('Machine Learning!')\n",
    "file.close()"
   ]
  },
  {
   "cell_type": "code",
   "execution_count": 67,
   "id": "4c6bbbeb",
   "metadata": {},
   "outputs": [],
   "source": [
    "with open('abhijeet.txt', 'w') as file:\n",
    "    file.write('Machine Learning is best!')"
   ]
  },
  {
   "cell_type": "code",
   "execution_count": null,
   "id": "b8f6828b",
   "metadata": {},
   "outputs": [],
   "source": []
  }
 ],
 "metadata": {
  "kernelspec": {
   "display_name": "Python 3 (ipykernel)",
   "language": "python",
   "name": "python3"
  },
  "language_info": {
   "codemirror_mode": {
    "name": "ipython",
    "version": 3
   },
   "file_extension": ".py",
   "mimetype": "text/x-python",
   "name": "python",
   "nbconvert_exporter": "python",
   "pygments_lexer": "ipython3",
   "version": "3.8.10"
  }
 },
 "nbformat": 4,
 "nbformat_minor": 5
}
