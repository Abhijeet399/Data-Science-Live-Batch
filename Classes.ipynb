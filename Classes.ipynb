{
 "cells": [
  {
   "cell_type": "code",
   "execution_count": 11,
   "id": "adbb14a0",
   "metadata": {},
   "outputs": [],
   "source": [
    "def temp(name):\n",
    "    print('Name is', name)\n",
    "#     return name"
   ]
  },
  {
   "cell_type": "code",
   "execution_count": 12,
   "id": "f5578c50",
   "metadata": {},
   "outputs": [
    {
     "name": "stdout",
     "output_type": "stream",
     "text": [
      "Name is aamir\n"
     ]
    }
   ],
   "source": [
    "temp('aamir')"
   ]
  },
  {
   "cell_type": "code",
   "execution_count": 14,
   "id": "db57f35d",
   "metadata": {},
   "outputs": [],
   "source": [
    "def temp(name):\n",
    "    print('Name is also', name)\n",
    "#     return name"
   ]
  },
  {
   "cell_type": "code",
   "execution_count": 15,
   "id": "80036c57",
   "metadata": {},
   "outputs": [
    {
     "name": "stdout",
     "output_type": "stream",
     "text": [
      "Name is also aamir\n"
     ]
    }
   ],
   "source": [
    "temp('aamir')"
   ]
  },
  {
   "cell_type": "code",
   "execution_count": 16,
   "id": "08a20cd0",
   "metadata": {},
   "outputs": [],
   "source": [
    "a = ['4', 22, 'abhijeet', 9.99]"
   ]
  },
  {
   "cell_type": "code",
   "execution_count": 19,
   "id": "c80523cd",
   "metadata": {},
   "outputs": [
    {
     "name": "stdout",
     "output_type": "stream",
     "text": [
      "<class 'str'>\n"
     ]
    }
   ],
   "source": [
    "print(type(a[2]))"
   ]
  },
  {
   "cell_type": "code",
   "execution_count": 23,
   "id": "2dc845bc",
   "metadata": {},
   "outputs": [],
   "source": [
    "def temp(a):\n",
    "    print(a)"
   ]
  },
  {
   "cell_type": "code",
   "execution_count": 25,
   "id": "88d0fc6b",
   "metadata": {},
   "outputs": [
    {
     "name": "stdout",
     "output_type": "stream",
     "text": [
      "9\n",
      "True\n"
     ]
    }
   ],
   "source": [
    "temp(9)\n",
    "print(isinstance(temp, object))"
   ]
  },
  {
   "cell_type": "code",
   "execution_count": 27,
   "id": "a8477125",
   "metadata": {},
   "outputs": [
    {
     "name": "stdout",
     "output_type": "stream",
     "text": [
      "False\n",
      "True True\n"
     ]
    }
   ],
   "source": [
    "name = 'abhijeet'\n",
    "age = 22\n",
    "print(age == 29)\n",
    "if type(age) == int:\n",
    "    print(\"True True\")"
   ]
  },
  {
   "cell_type": "code",
   "execution_count": 29,
   "id": "f5d4e501",
   "metadata": {},
   "outputs": [
    {
     "data": {
      "text/plain": [
       "'0x7fa3b1337790'"
      ]
     },
     "execution_count": 29,
     "metadata": {},
     "output_type": "execute_result"
    }
   ],
   "source": [
    "hex(id(temp))"
   ]
  },
  {
   "cell_type": "code",
   "execution_count": 39,
   "id": "fdc6714b",
   "metadata": {},
   "outputs": [
    {
     "name": "stdout",
     "output_type": "stream",
     "text": [
      "<class 'list'>\n",
      "True\n"
     ]
    }
   ],
   "source": [
    "print(type(a))\n",
    "print(isinstance(print, object))"
   ]
  },
  {
   "cell_type": "code",
   "execution_count": 40,
   "id": "a3d741d6",
   "metadata": {},
   "outputs": [],
   "source": [
    "class Student:\n",
    "    mentor = 'Abhijeet'\n",
    "    age = 22"
   ]
  },
  {
   "cell_type": "code",
   "execution_count": 41,
   "id": "31bf2437",
   "metadata": {},
   "outputs": [],
   "source": [
    "a = Student()"
   ]
  },
  {
   "cell_type": "code",
   "execution_count": 42,
   "id": "493abb21",
   "metadata": {},
   "outputs": [],
   "source": [
    "b = Student()"
   ]
  },
  {
   "cell_type": "code",
   "execution_count": 43,
   "id": "d08f2b3d",
   "metadata": {},
   "outputs": [],
   "source": [
    "c = Student()"
   ]
  },
  {
   "cell_type": "code",
   "execution_count": 60,
   "id": "1cdf7169",
   "metadata": {},
   "outputs": [
    {
     "name": "stdout",
     "output_type": "stream",
     "text": [
      "Abhijeet Abhijeet Abhijeet 22 22 22\n"
     ]
    }
   ],
   "source": [
    "print(c.mentor, b.mentor, a.mentor, a.age, b.age, c.age)"
   ]
  },
  {
   "cell_type": "code",
   "execution_count": 75,
   "id": "5aafd69c",
   "metadata": {},
   "outputs": [],
   "source": [
    "class Person:\n",
    "    alive = True\n",
    "    age = 22\n",
    "    name = None\n",
    "    \n",
    "    def hello(self):\n",
    "        print(\"Hello I am:\", self.alive, self.name, self.age)"
   ]
  },
  {
   "cell_type": "code",
   "execution_count": 76,
   "id": "00731265",
   "metadata": {},
   "outputs": [],
   "source": [
    "p = Person()"
   ]
  },
  {
   "cell_type": "code",
   "execution_count": 77,
   "id": "672603e7",
   "metadata": {},
   "outputs": [
    {
     "name": "stdout",
     "output_type": "stream",
     "text": [
      "<__main__.Person object at 0x7fa3b1d068e0>\n"
     ]
    }
   ],
   "source": [
    "print(p)"
   ]
  },
  {
   "cell_type": "code",
   "execution_count": 78,
   "id": "77d9a171",
   "metadata": {},
   "outputs": [
    {
     "name": "stdout",
     "output_type": "stream",
     "text": [
      "Hello I am: True None 22\n"
     ]
    }
   ],
   "source": [
    "p.hello()"
   ]
  },
  {
   "cell_type": "code",
   "execution_count": 88,
   "id": "75f4ceeb",
   "metadata": {},
   "outputs": [],
   "source": [
    "class Person:\n",
    "    alive = True\n",
    "    age = 22\n",
    "    name = None\n",
    "    \n",
    "    def hello(self, name_person, age_person, alive_person = True):\n",
    "        self.name = name_person\n",
    "        self.age = age_person\n",
    "        self.alive = alive_person\n",
    "        print(\"Hello I am:\", self.alive, self.name, self.age)"
   ]
  },
  {
   "cell_type": "code",
   "execution_count": 89,
   "id": "5c039999",
   "metadata": {},
   "outputs": [],
   "source": [
    "q = Person()"
   ]
  },
  {
   "cell_type": "code",
   "execution_count": 90,
   "id": "f81d24c6",
   "metadata": {},
   "outputs": [
    {
     "name": "stdout",
     "output_type": "stream",
     "text": [
      "<class '__main__.Person'>\n"
     ]
    }
   ],
   "source": [
    "print(type(q))"
   ]
  },
  {
   "cell_type": "code",
   "execution_count": 93,
   "id": "87559272",
   "metadata": {},
   "outputs": [
    {
     "name": "stdout",
     "output_type": "stream",
     "text": [
      "Hello I am: True abhijeet 30\n"
     ]
    }
   ],
   "source": [
    "q.hello('abhijeet', 30)"
   ]
  },
  {
   "cell_type": "code",
   "execution_count": 94,
   "id": "48d2388b",
   "metadata": {},
   "outputs": [
    {
     "data": {
      "text/plain": [
       "'abhijeet'"
      ]
     },
     "execution_count": 94,
     "metadata": {},
     "output_type": "execute_result"
    }
   ],
   "source": [
    "q.name"
   ]
  },
  {
   "cell_type": "code",
   "execution_count": 95,
   "id": "24060146",
   "metadata": {},
   "outputs": [
    {
     "data": {
      "text/plain": [
       "30"
      ]
     },
     "execution_count": 95,
     "metadata": {},
     "output_type": "execute_result"
    }
   ],
   "source": [
    "q.age"
   ]
  },
  {
   "cell_type": "code",
   "execution_count": 96,
   "id": "5b5015ea",
   "metadata": {},
   "outputs": [],
   "source": [
    "p = Person()"
   ]
  },
  {
   "cell_type": "code",
   "execution_count": 98,
   "id": "f4329a80",
   "metadata": {},
   "outputs": [
    {
     "name": "stdout",
     "output_type": "stream",
     "text": [
      "None\n"
     ]
    }
   ],
   "source": [
    "print(p.name)"
   ]
  },
  {
   "cell_type": "code",
   "execution_count": 99,
   "id": "242006c1",
   "metadata": {},
   "outputs": [
    {
     "name": "stdout",
     "output_type": "stream",
     "text": [
      "Hello I am: False samar 99\n",
      "samar 99 False\n"
     ]
    }
   ],
   "source": [
    "p.hello('samar', 99, False)\n",
    "print(p.name, p.age, p.alive)"
   ]
  },
  {
   "cell_type": "code",
   "execution_count": 100,
   "id": "0e691422",
   "metadata": {},
   "outputs": [],
   "source": [
    "# Dunders/ Magic Function"
   ]
  },
  {
   "cell_type": "code",
   "execution_count": 106,
   "id": "69c06248",
   "metadata": {},
   "outputs": [],
   "source": [
    "class Person:\n",
    "    living = True\n",
    "    \n",
    "    def __init__(self, person_name, person_age, person_height):\n",
    "        self.name = person_name\n",
    "        self.age = person_age\n",
    "        self.height = person_height\n",
    "        print(\"Chal gya\")\n",
    "        \n",
    "    def hello(self):\n",
    "        print(self.name, self.age, self.height)"
   ]
  },
  {
   "cell_type": "code",
   "execution_count": 107,
   "id": "a2dfb6df",
   "metadata": {},
   "outputs": [
    {
     "name": "stdout",
     "output_type": "stream",
     "text": [
      "Chal gya\n",
      "NEXT LINE\n",
      "Chal gya\n"
     ]
    }
   ],
   "source": [
    "person1 = Person('Abhijeet', 22, 5.10)\n",
    "print(\"NEXT LINE\")\n",
    "person2 = Person('Siddharth', 19, 6)"
   ]
  },
  {
   "cell_type": "code",
   "execution_count": 105,
   "id": "8271e946",
   "metadata": {},
   "outputs": [
    {
     "name": "stdout",
     "output_type": "stream",
     "text": [
      "Abhijeet 22 5.1\n",
      "Siddharth 19 6\n"
     ]
    }
   ],
   "source": [
    "print(person1.name, person1.age, person1.height)\n",
    "print(person2.name, person2.age, person2.height)"
   ]
  },
  {
   "cell_type": "code",
   "execution_count": 108,
   "id": "f040c17c",
   "metadata": {},
   "outputs": [
    {
     "name": "stdout",
     "output_type": "stream",
     "text": [
      "True True\n"
     ]
    }
   ],
   "source": [
    "print(person1.living, person2.living)"
   ]
  },
  {
   "cell_type": "code",
   "execution_count": 109,
   "id": "ce5cf43d",
   "metadata": {},
   "outputs": [
    {
     "name": "stdout",
     "output_type": "stream",
     "text": [
      "nameaamir\n",
      "RollNO002\n",
      "age22\n",
      "Abhijeet Bhaiya aamir 002 22\n"
     ]
    }
   ],
   "source": [
    "class Student:\n",
    "    mentor = \"Abhijeet Bhaiya\"\n",
    "    def __init__(self, name, rollno, age):\n",
    "        self.name = name\n",
    "        self.rollno = rollno\n",
    "        self.age = age\n",
    "s1 = Student(input(\"name\"), input(\"RollNO\"), input(\"age\"))\n",
    "print(s1.mentor, s1.name, s1.rollno, s1.age)"
   ]
  },
  {
   "cell_type": "code",
   "execution_count": 112,
   "id": "0720379b",
   "metadata": {},
   "outputs": [],
   "source": [
    "class Student:\n",
    "    mentor = 'Abhijeet'\n",
    "    \n",
    "    def __init__(self):\n",
    "        pass\n",
    "    \n",
    "    def details(self, name, roll, age):\n",
    "        self.name = name\n",
    "        self.age = age\n",
    "        self.roll = roll"
   ]
  },
  {
   "cell_type": "code",
   "execution_count": 113,
   "id": "ee8c309a",
   "metadata": {},
   "outputs": [
    {
     "name": "stdout",
     "output_type": "stream",
     "text": [
      "Name?Abhi\n",
      "Roll001\n",
      "Age22\n",
      "Name?Aamir\n",
      "Roll002\n",
      "Age23\n",
      "Name?Samar\n",
      "Roll09\n",
      "Age33\n"
     ]
    }
   ],
   "source": [
    "a = Student()\n",
    "b = Student()\n",
    "c = Student()\n",
    "\n",
    "for i in range(3):\n",
    "    name = input(\"Name?\")\n",
    "    roll = input(\"Roll\")\n",
    "    age = input(\"Age\")\n",
    "    if i == 0:\n",
    "        a.details(name, roll, age)\n",
    "    if i == 1:\n",
    "        b.details(name, roll, age)\n",
    "    if i == 2:\n",
    "        c.details(name, roll, age)"
   ]
  },
  {
   "cell_type": "code",
   "execution_count": 114,
   "id": "9f8c4a34",
   "metadata": {},
   "outputs": [
    {
     "name": "stdout",
     "output_type": "stream",
     "text": [
      "Abhi Aamir Samar\n"
     ]
    }
   ],
   "source": [
    "print(a.name, b.name, c.name)"
   ]
  },
  {
   "cell_type": "code",
   "execution_count": 115,
   "id": "dac1e66f",
   "metadata": {},
   "outputs": [],
   "source": [
    "class Student:\n",
    "    mentor = 'Abhijeet'\n",
    "    \n",
    "    def __init__(self, name, age, roll):\n",
    "        self.name = name\n",
    "        self.age = age\n",
    "        self.roll = roll"
   ]
  },
  {
   "cell_type": "code",
   "execution_count": 117,
   "id": "acf5263c",
   "metadata": {},
   "outputs": [
    {
     "name": "stdout",
     "output_type": "stream",
     "text": [
      "NameAbhi\n",
      "Age22\n",
      "roll001\n"
     ]
    }
   ],
   "source": [
    "a = Student(input('Name'), int(input('Age')), int(input('roll')))"
   ]
  },
  {
   "cell_type": "code",
   "execution_count": 120,
   "id": "118ebce2",
   "metadata": {},
   "outputs": [
    {
     "name": "stdout",
     "output_type": "stream",
     "text": [
      "NameAamir\n",
      "Age23\n",
      "roll002\n"
     ]
    }
   ],
   "source": [
    "b = Student(input('Name'), int(input('Age')), int(input('roll')))"
   ]
  },
  {
   "cell_type": "code",
   "execution_count": 121,
   "id": "b59dc779",
   "metadata": {},
   "outputs": [
    {
     "name": "stdout",
     "output_type": "stream",
     "text": [
      "Abhi Aamir 22 23 1 2\n"
     ]
    }
   ],
   "source": [
    "print(a.name, b.name, a.age, b.age, a.roll, b.roll)"
   ]
  },
  {
   "cell_type": "code",
   "execution_count": 125,
   "id": "46391540",
   "metadata": {},
   "outputs": [
    {
     "name": "stdout",
     "output_type": "stream",
     "text": [
      "Abhijeet Abhijeet 140341034920944 140341034920944 140341034920944\n"
     ]
    }
   ],
   "source": [
    "print(a.mentor, b.mentor, id(a.mentor), id(b.mentor), id(Student('a', 'b', 'c').mentor))"
   ]
  },
  {
   "cell_type": "code",
   "execution_count": 126,
   "id": "15802ae5",
   "metadata": {},
   "outputs": [
    {
     "name": "stdout",
     "output_type": "stream",
     "text": [
      "140341039565040 140341039617136\n"
     ]
    }
   ],
   "source": [
    "print(id(a.name), id(b.name))"
   ]
  },
  {
   "cell_type": "code",
   "execution_count": 127,
   "id": "af0cb91d",
   "metadata": {},
   "outputs": [],
   "source": []
  },
  {
   "cell_type": "code",
   "execution_count": null,
   "id": "ee0f34f7",
   "metadata": {},
   "outputs": [],
   "source": []
  }
 ],
 "metadata": {
  "kernelspec": {
   "display_name": "Python 3 (ipykernel)",
   "language": "python",
   "name": "python3"
  },
  "language_info": {
   "codemirror_mode": {
    "name": "ipython",
    "version": 3
   },
   "file_extension": ".py",
   "mimetype": "text/x-python",
   "name": "python",
   "nbconvert_exporter": "python",
   "pygments_lexer": "ipython3",
   "version": "3.8.10"
  }
 },
 "nbformat": 4,
 "nbformat_minor": 5
}
